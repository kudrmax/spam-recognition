{
 "cells": [
  {
   "cell_type": "code",
   "execution_count": 1,
   "metadata": {
    "collapsed": true
   },
   "outputs": [],
   "source": [
    "import pandas as pd"
   ]
  },
  {
   "cell_type": "code",
   "execution_count": 2,
   "outputs": [
    {
     "data": {
      "text/plain": "  text_type                                               text\n0       ham  make sure alex knows his birthday is over in f...\n1       ham  a resume for john lavorato thanks vince i will...\n2      spam  plzz visit my website moviesgodml to get all m...\n3      spam  urgent your mobile number has been awarded wit...\n4       ham  overview of hr associates analyst project per ...",
      "text/html": "<div>\n<style scoped>\n    .dataframe tbody tr th:only-of-type {\n        vertical-align: middle;\n    }\n\n    .dataframe tbody tr th {\n        vertical-align: top;\n    }\n\n    .dataframe thead th {\n        text-align: right;\n    }\n</style>\n<table border=\"1\" class=\"dataframe\">\n  <thead>\n    <tr style=\"text-align: right;\">\n      <th></th>\n      <th>text_type</th>\n      <th>text</th>\n    </tr>\n  </thead>\n  <tbody>\n    <tr>\n      <th>0</th>\n      <td>ham</td>\n      <td>make sure alex knows his birthday is over in f...</td>\n    </tr>\n    <tr>\n      <th>1</th>\n      <td>ham</td>\n      <td>a resume for john lavorato thanks vince i will...</td>\n    </tr>\n    <tr>\n      <th>2</th>\n      <td>spam</td>\n      <td>plzz visit my website moviesgodml to get all m...</td>\n    </tr>\n    <tr>\n      <th>3</th>\n      <td>spam</td>\n      <td>urgent your mobile number has been awarded wit...</td>\n    </tr>\n    <tr>\n      <th>4</th>\n      <td>ham</td>\n      <td>overview of hr associates analyst project per ...</td>\n    </tr>\n  </tbody>\n</table>\n</div>"
     },
     "execution_count": 2,
     "metadata": {},
     "output_type": "execute_result"
    }
   ],
   "source": [
    "data = pd.read_csv('data/train_spam.csv')\n",
    "data.head()"
   ],
   "metadata": {
    "collapsed": false
   }
  },
  {
   "cell_type": "markdown",
   "source": [
    "# Анализ и предобработка данных"
   ],
   "metadata": {
    "collapsed": false
   }
  },
  {
   "cell_type": "code",
   "execution_count": 3,
   "outputs": [],
   "source": [
    "# заменим spam на 1 и ham на 0\n",
    "data.loc[data['text_type'] == 'spam', 'text_type'] = 1\n",
    "data.loc[data['text_type'] == 'ham', 'text_type'] = 0\n",
    "data['text_type'] = data['text_type'].astype(int)"
   ],
   "metadata": {
    "collapsed": false
   }
  },
  {
   "cell_type": "code",
   "execution_count": 4,
   "outputs": [
    {
     "data": {
      "text/plain": "text_type    0\ntext         0\ndtype: int64"
     },
     "execution_count": 4,
     "metadata": {},
     "output_type": "execute_result"
    }
   ],
   "source": [
    "# посмотрим на пропуски\n",
    "data.isna().sum()"
   ],
   "metadata": {
    "collapsed": false
   }
  },
  {
   "cell_type": "code",
   "execution_count": 5,
   "outputs": [
    {
     "data": {
      "text/plain": "            text\ntext_type       \n0          11469\n1           4809",
      "text/html": "<div>\n<style scoped>\n    .dataframe tbody tr th:only-of-type {\n        vertical-align: middle;\n    }\n\n    .dataframe tbody tr th {\n        vertical-align: top;\n    }\n\n    .dataframe thead th {\n        text-align: right;\n    }\n</style>\n<table border=\"1\" class=\"dataframe\">\n  <thead>\n    <tr style=\"text-align: right;\">\n      <th></th>\n      <th>text</th>\n    </tr>\n    <tr>\n      <th>text_type</th>\n      <th></th>\n    </tr>\n  </thead>\n  <tbody>\n    <tr>\n      <th>0</th>\n      <td>11469</td>\n    </tr>\n    <tr>\n      <th>1</th>\n      <td>4809</td>\n    </tr>\n  </tbody>\n</table>\n</div>"
     },
     "execution_count": 5,
     "metadata": {},
     "output_type": "execute_result"
    }
   ],
   "source": [
    "# посмотрим на сбаллансированность данных\n",
    "data.groupby(by='text_type').count()"
   ],
   "metadata": {
    "collapsed": false
   }
  },
  {
   "cell_type": "code",
   "execution_count": 6,
   "outputs": [
    {
     "name": "stderr",
     "output_type": "stream",
     "text": [
      "[nltk_data] Downloading package stopwords to\n",
      "[nltk_data]     /Users/kudr.max/nltk_data...\n",
      "[nltk_data]   Package stopwords is already up-to-date!\n",
      "[nltk_data] Downloading package wordnet to\n",
      "[nltk_data]     /Users/kudr.max/nltk_data...\n",
      "[nltk_data]   Package wordnet is already up-to-date!\n"
     ]
    },
    {
     "data": {
      "text/plain": "   text_type                                               text  \\\n0          0  make sure alex knows his birthday is over in f...   \n1          0  a resume for john lavorato thanks vince i will...   \n2          1  plzz visit my website moviesgodml to get all m...   \n3          1  urgent your mobile number has been awarded wit...   \n4          0  overview of hr associates analyst project per ...   \n\n                                        cleared_text  \\\n0  make sure alex knows birthday fifteen minutes ...   \n1  resume john lavorato thanks vince get moving r...   \n2  plzz visit website moviesgodml get movies free...   \n3  urgent mobile number awarded £ prize guarantee...   \n4  overview hr associates analyst project per dav...   \n\n                                   cleared_text_stem  \\\n0  make sure alex know birthday fifteen minut far...   \n1  resum john lavorato thank vinc get move right ...   \n2  plzz visit websit moviesgodml get movi free al...   \n3  urgent mobil number award £ prize guarante cal...   \n4  overview hr associ analyst project per david r...   \n\n                              cleared_text_lemmatize  \n0  make sure alex know birthday fifteen minute fa...  \n1  resume john lavorato thanks vince get moving r...  \n2  plzz visit website moviesgodml get movie free ...  \n3  urgent mobile number awarded £ prize guarantee...  \n4  overview hr associate analyst project per davi...  ",
      "text/html": "<div>\n<style scoped>\n    .dataframe tbody tr th:only-of-type {\n        vertical-align: middle;\n    }\n\n    .dataframe tbody tr th {\n        vertical-align: top;\n    }\n\n    .dataframe thead th {\n        text-align: right;\n    }\n</style>\n<table border=\"1\" class=\"dataframe\">\n  <thead>\n    <tr style=\"text-align: right;\">\n      <th></th>\n      <th>text_type</th>\n      <th>text</th>\n      <th>cleared_text</th>\n      <th>cleared_text_stem</th>\n      <th>cleared_text_lemmatize</th>\n    </tr>\n  </thead>\n  <tbody>\n    <tr>\n      <th>0</th>\n      <td>0</td>\n      <td>make sure alex knows his birthday is over in f...</td>\n      <td>make sure alex knows birthday fifteen minutes ...</td>\n      <td>make sure alex know birthday fifteen minut far...</td>\n      <td>make sure alex know birthday fifteen minute fa...</td>\n    </tr>\n    <tr>\n      <th>1</th>\n      <td>0</td>\n      <td>a resume for john lavorato thanks vince i will...</td>\n      <td>resume john lavorato thanks vince get moving r...</td>\n      <td>resum john lavorato thank vinc get move right ...</td>\n      <td>resume john lavorato thanks vince get moving r...</td>\n    </tr>\n    <tr>\n      <th>2</th>\n      <td>1</td>\n      <td>plzz visit my website moviesgodml to get all m...</td>\n      <td>plzz visit website moviesgodml get movies free...</td>\n      <td>plzz visit websit moviesgodml get movi free al...</td>\n      <td>plzz visit website moviesgodml get movie free ...</td>\n    </tr>\n    <tr>\n      <th>3</th>\n      <td>1</td>\n      <td>urgent your mobile number has been awarded wit...</td>\n      <td>urgent mobile number awarded £ prize guarantee...</td>\n      <td>urgent mobil number award £ prize guarante cal...</td>\n      <td>urgent mobile number awarded £ prize guarantee...</td>\n    </tr>\n    <tr>\n      <th>4</th>\n      <td>0</td>\n      <td>overview of hr associates analyst project per ...</td>\n      <td>overview hr associates analyst project per dav...</td>\n      <td>overview hr associ analyst project per david r...</td>\n      <td>overview hr associate analyst project per davi...</td>\n    </tr>\n  </tbody>\n</table>\n</div>"
     },
     "execution_count": 6,
     "metadata": {},
     "output_type": "execute_result"
    }
   ],
   "source": [
    "# предобработаем текста\n",
    "\n",
    "import string\n",
    "import re\n",
    "import nltk\n",
    "from nltk.corpus import stopwords\n",
    "from nltk.stem.porter import PorterStemmer\n",
    "from nltk.stem import WordNetLemmatizer\n",
    "\n",
    "nltk.download('stopwords')\n",
    "nltk.download('wordnet')\n",
    "\n",
    "\n",
    "def clear_text(text: str, method=None):\n",
    "    \"\"\"\n",
    "    Функция для предобработки текста\n",
    "\n",
    "    Parameters\n",
    "    ----------\n",
    "    text\n",
    "    method:\n",
    "        - 'lemmatize': использовать WordNetLemmatizer()\n",
    "        - 'stem': использовать PorterStemmer()\n",
    "        - None: не использовать обработку слов\n",
    "\n",
    "    Returns\n",
    "    -------\n",
    "    Текст, готовый к векторизации\n",
    "    \"\"\"\n",
    "    stopwords_set = set(stopwords.words('english'))\n",
    "\n",
    "    text = text.strip().lower()\n",
    "    text = text.translate(str.maketrans('', '', string.punctuation))  # удаление пунктуации\n",
    "    text = re.sub(r'\\d+', '', text)  # удаление чисел\n",
    "    text_list = text.split()\n",
    "    text_list = [word for word in text_list if word not in stopwords_set]\n",
    "    if method == 'lemmatize':\n",
    "        lemmatizer = WordNetLemmatizer()\n",
    "        text_list = [lemmatizer.lemmatize(word) for word in text_list]\n",
    "    elif method == 'stem':\n",
    "        stemmer = PorterStemmer()\n",
    "        text_list = [stemmer.stem(word) for word in text_list]\n",
    "    text = ' '.join(text_list)\n",
    "    return text\n",
    "\n",
    "\n",
    "data['cleared_text'] = data['text'].apply(clear_text)\n",
    "data['cleared_text_stem'] = data['text'].apply(clear_text, method='stem')\n",
    "data['cleared_text_lemmatize'] = data['text'].apply(clear_text, method='lemmatize')\n",
    "data.head()"
   ],
   "metadata": {
    "collapsed": false
   }
  },
  {
   "cell_type": "code",
   "execution_count": 7,
   "outputs": [],
   "source": [
    "X = data['cleared_text_stem']\n",
    "y = data['text_type']"
   ],
   "metadata": {
    "collapsed": false
   }
  },
  {
   "cell_type": "code",
   "execution_count": 8,
   "outputs": [],
   "source": [
    "# векторизируем текст\n",
    "\n",
    "from sklearn.model_selection import train_test_split\n",
    "from sklearn.feature_extraction.text import TfidfVectorizer, CountVectorizer\n",
    "\n",
    "X_train, X_test, y_train, y_test = train_test_split(X, y, test_size=0.2, random_state=42)\n",
    "\n",
    "tfidf_vect = TfidfVectorizer()\n",
    "# count_vect = CountVectorizer()\n",
    "\n",
    "tfidf_vect.fit(X_train)\n",
    "# count_vect.fit(X_train)\n",
    "\n",
    "X_train_vect = tfidf_vect.transform(X_train)\n",
    "X_test_vect = tfidf_vect.transform(X_test)\n",
    "# X_train_vect = count_vect.transform(X_train)\n",
    "# X_test_vect = count_vect.transform(X_test)"
   ],
   "metadata": {
    "collapsed": false
   }
  },
  {
   "cell_type": "markdown",
   "source": [
    "# Обучение модели\n",
    "\n",
    "Рассмотрим несколько моделей и для каждой из них подберем оптимальные гиперпараметры"
   ],
   "metadata": {
    "collapsed": false
   }
  },
  {
   "cell_type": "code",
   "execution_count": 9,
   "outputs": [],
   "source": [
    "from sklearn.metrics import roc_auc_score, classification_report\n",
    "from sklearn.model_selection import GridSearchCV\n",
    "import numpy as np"
   ],
   "metadata": {
    "collapsed": false
   }
  },
  {
   "cell_type": "markdown",
   "source": [
    "### Логистическая регрессия"
   ],
   "metadata": {
    "collapsed": false
   }
  },
  {
   "cell_type": "code",
   "execution_count": 19,
   "outputs": [
    {
     "name": "stdout",
     "output_type": "stream",
     "text": [
      "Лучший roc_auc: 0.9776756178251041\n",
      "При параметрах: {'C': 10}\n"
     ]
    }
   ],
   "source": [
    "from sklearn.linear_model import LogisticRegression\n",
    "\n",
    "model = LogisticRegression()\n",
    "\n",
    "parameters = {\n",
    "    'C': [0.001, 0.01, 0.1, 1, 10, 100, 1000]\n",
    "}\n",
    "\n",
    "grid_search = GridSearchCV(\n",
    "    estimator=model,\n",
    "    param_grid=parameters,\n",
    "    scoring='roc_auc',\n",
    "    cv=5)\n",
    "\n",
    "grid_search.fit(X_train_vect, y_train)\n",
    "\n",
    "print(f'Лучший roc_auc: {grid_search.best_score_}')\n",
    "print(f'При параметрах: {grid_search.best_params_}')"
   ],
   "metadata": {
    "collapsed": false
   }
  },
  {
   "cell_type": "code",
   "execution_count": 20,
   "outputs": [
    {
     "name": "stdout",
     "output_type": "stream",
     "text": [
      "ROC-AUC: 0.9819255484105828\n",
      "Classification report:\n",
      "              precision    recall  f1-score   support\n",
      "\n",
      "           0       0.95      0.97      0.96      2321\n",
      "           1       0.91      0.88      0.89       935\n",
      "\n",
      "    accuracy                           0.94      3256\n",
      "   macro avg       0.93      0.92      0.93      3256\n",
      "weighted avg       0.94      0.94      0.94      3256\n",
      "\n"
     ]
    }
   ],
   "source": [
    "model = grid_search.best_estimator_\n",
    "model.fit(X_train_vect, y_train)\n",
    "\n",
    "y_pred = model.predict(X_test_vect)\n",
    "y_pred_proba = model.predict_proba(X_test_vect)[:, 1]\n",
    "print(f\"ROC-AUC on test: {roc_auc_score(y_test, y_pred_proba)}\")\n",
    "print(f\"Classification report:\\n{classification_report(y_test, y_pred)}\")"
   ],
   "metadata": {
    "collapsed": false
   }
  },
  {
   "cell_type": "markdown",
   "source": [
    "### SVM"
   ],
   "metadata": {
    "collapsed": false
   }
  },
  {
   "cell_type": "code",
   "execution_count": null,
   "outputs": [],
   "source": [
    "from sklearn.svm import SVC\n",
    "\n",
    "model = SVC()\n",
    "\n",
    "parameters = {\n",
    "    'C': [0.001, 0.01, 0.1, 1, 10, 100, 1000],\n",
    "    'gamma': [0.001, 0.01, 0.1, 1],\n",
    "    'kernel': ['linear', 'rbf', 'poly']\n",
    "}\n",
    "\n",
    "grid_search = GridSearchCV(\n",
    "    estimator=model,\n",
    "    param_grid=parameters,\n",
    "    scoring='roc_auc',\n",
    "    cv=5)\n",
    "\n",
    "grid_search.fit(X_train_vect, y_train)\n",
    "\n",
    "print(f'Лучший roc_auc: {grid_search.best_score_}')\n",
    "print(f'При параметрах: {grid_search.best_params_}')"
   ],
   "metadata": {
    "collapsed": false,
    "pycharm": {
     "is_executing": true
    }
   }
  },
  {
   "cell_type": "code",
   "execution_count": null,
   "outputs": [],
   "source": [
    "model = grid_search.best_estimator_\n",
    "model.fit(X_train_vect, y_train)\n",
    "\n",
    "y_pred = model.predict(X_test_vect)\n",
    "y_pred_proba = model.predict_proba(X_test_vect)[:, 1]\n",
    "print(f\"ROC-AUC on test: {roc_auc_score(y_test, y_pred_proba)}\")\n",
    "print(f\"Classification report:\\n{classification_report(y_test, y_pred)}\")"
   ],
   "metadata": {
    "collapsed": false
   }
  },
  {
   "cell_type": "code",
   "execution_count": 34,
   "outputs": [
    {
     "data": {
      "text/plain": "SVC(kernel='linear', probability=True)",
      "text/html": "<style>#sk-container-id-3 {\n  /* Definition of color scheme common for light and dark mode */\n  --sklearn-color-text: black;\n  --sklearn-color-line: gray;\n  /* Definition of color scheme for unfitted estimators */\n  --sklearn-color-unfitted-level-0: #fff5e6;\n  --sklearn-color-unfitted-level-1: #f6e4d2;\n  --sklearn-color-unfitted-level-2: #ffe0b3;\n  --sklearn-color-unfitted-level-3: chocolate;\n  /* Definition of color scheme for fitted estimators */\n  --sklearn-color-fitted-level-0: #f0f8ff;\n  --sklearn-color-fitted-level-1: #d4ebff;\n  --sklearn-color-fitted-level-2: #b3dbfd;\n  --sklearn-color-fitted-level-3: cornflowerblue;\n\n  /* Specific color for light theme */\n  --sklearn-color-text-on-default-background: var(--sg-text-color, var(--theme-code-foreground, var(--jp-content-font-color1, black)));\n  --sklearn-color-background: var(--sg-background-color, var(--theme-background, var(--jp-layout-color0, white)));\n  --sklearn-color-border-box: var(--sg-text-color, var(--theme-code-foreground, var(--jp-content-font-color1, black)));\n  --sklearn-color-icon: #696969;\n\n  @media (prefers-color-scheme: dark) {\n    /* Redefinition of color scheme for dark theme */\n    --sklearn-color-text-on-default-background: var(--sg-text-color, var(--theme-code-foreground, var(--jp-content-font-color1, white)));\n    --sklearn-color-background: var(--sg-background-color, var(--theme-background, var(--jp-layout-color0, #111)));\n    --sklearn-color-border-box: var(--sg-text-color, var(--theme-code-foreground, var(--jp-content-font-color1, white)));\n    --sklearn-color-icon: #878787;\n  }\n}\n\n#sk-container-id-3 {\n  color: var(--sklearn-color-text);\n}\n\n#sk-container-id-3 pre {\n  padding: 0;\n}\n\n#sk-container-id-3 input.sk-hidden--visually {\n  border: 0;\n  clip: rect(1px 1px 1px 1px);\n  clip: rect(1px, 1px, 1px, 1px);\n  height: 1px;\n  margin: -1px;\n  overflow: hidden;\n  padding: 0;\n  position: absolute;\n  width: 1px;\n}\n\n#sk-container-id-3 div.sk-dashed-wrapped {\n  border: 1px dashed var(--sklearn-color-line);\n  margin: 0 0.4em 0.5em 0.4em;\n  box-sizing: border-box;\n  padding-bottom: 0.4em;\n  background-color: var(--sklearn-color-background);\n}\n\n#sk-container-id-3 div.sk-container {\n  /* jupyter's `normalize.less` sets `[hidden] { display: none; }`\n     but bootstrap.min.css set `[hidden] { display: none !important; }`\n     so we also need the `!important` here to be able to override the\n     default hidden behavior on the sphinx rendered scikit-learn.org.\n     See: https://github.com/scikit-learn/scikit-learn/issues/21755 */\n  display: inline-block !important;\n  position: relative;\n}\n\n#sk-container-id-3 div.sk-text-repr-fallback {\n  display: none;\n}\n\ndiv.sk-parallel-item,\ndiv.sk-serial,\ndiv.sk-item {\n  /* draw centered vertical line to link estimators */\n  background-image: linear-gradient(var(--sklearn-color-text-on-default-background), var(--sklearn-color-text-on-default-background));\n  background-size: 2px 100%;\n  background-repeat: no-repeat;\n  background-position: center center;\n}\n\n/* Parallel-specific style estimator block */\n\n#sk-container-id-3 div.sk-parallel-item::after {\n  content: \"\";\n  width: 100%;\n  border-bottom: 2px solid var(--sklearn-color-text-on-default-background);\n  flex-grow: 1;\n}\n\n#sk-container-id-3 div.sk-parallel {\n  display: flex;\n  align-items: stretch;\n  justify-content: center;\n  background-color: var(--sklearn-color-background);\n  position: relative;\n}\n\n#sk-container-id-3 div.sk-parallel-item {\n  display: flex;\n  flex-direction: column;\n}\n\n#sk-container-id-3 div.sk-parallel-item:first-child::after {\n  align-self: flex-end;\n  width: 50%;\n}\n\n#sk-container-id-3 div.sk-parallel-item:last-child::after {\n  align-self: flex-start;\n  width: 50%;\n}\n\n#sk-container-id-3 div.sk-parallel-item:only-child::after {\n  width: 0;\n}\n\n/* Serial-specific style estimator block */\n\n#sk-container-id-3 div.sk-serial {\n  display: flex;\n  flex-direction: column;\n  align-items: center;\n  background-color: var(--sklearn-color-background);\n  padding-right: 1em;\n  padding-left: 1em;\n}\n\n\n/* Toggleable style: style used for estimator/Pipeline/ColumnTransformer box that is\nclickable and can be expanded/collapsed.\n- Pipeline and ColumnTransformer use this feature and define the default style\n- Estimators will overwrite some part of the style using the `sk-estimator` class\n*/\n\n/* Pipeline and ColumnTransformer style (default) */\n\n#sk-container-id-3 div.sk-toggleable {\n  /* Default theme specific background. It is overwritten whether we have a\n  specific estimator or a Pipeline/ColumnTransformer */\n  background-color: var(--sklearn-color-background);\n}\n\n/* Toggleable label */\n#sk-container-id-3 label.sk-toggleable__label {\n  cursor: pointer;\n  display: block;\n  width: 100%;\n  margin-bottom: 0;\n  padding: 0.5em;\n  box-sizing: border-box;\n  text-align: center;\n}\n\n#sk-container-id-3 label.sk-toggleable__label-arrow:before {\n  /* Arrow on the left of the label */\n  content: \"▸\";\n  float: left;\n  margin-right: 0.25em;\n  color: var(--sklearn-color-icon);\n}\n\n#sk-container-id-3 label.sk-toggleable__label-arrow:hover:before {\n  color: var(--sklearn-color-text);\n}\n\n/* Toggleable content - dropdown */\n\n#sk-container-id-3 div.sk-toggleable__content {\n  max-height: 0;\n  max-width: 0;\n  overflow: hidden;\n  text-align: left;\n  /* unfitted */\n  background-color: var(--sklearn-color-unfitted-level-0);\n}\n\n#sk-container-id-3 div.sk-toggleable__content.fitted {\n  /* fitted */\n  background-color: var(--sklearn-color-fitted-level-0);\n}\n\n#sk-container-id-3 div.sk-toggleable__content pre {\n  margin: 0.2em;\n  border-radius: 0.25em;\n  color: var(--sklearn-color-text);\n  /* unfitted */\n  background-color: var(--sklearn-color-unfitted-level-0);\n}\n\n#sk-container-id-3 div.sk-toggleable__content.fitted pre {\n  /* unfitted */\n  background-color: var(--sklearn-color-fitted-level-0);\n}\n\n#sk-container-id-3 input.sk-toggleable__control:checked~div.sk-toggleable__content {\n  /* Expand drop-down */\n  max-height: 200px;\n  max-width: 100%;\n  overflow: auto;\n}\n\n#sk-container-id-3 input.sk-toggleable__control:checked~label.sk-toggleable__label-arrow:before {\n  content: \"▾\";\n}\n\n/* Pipeline/ColumnTransformer-specific style */\n\n#sk-container-id-3 div.sk-label input.sk-toggleable__control:checked~label.sk-toggleable__label {\n  color: var(--sklearn-color-text);\n  background-color: var(--sklearn-color-unfitted-level-2);\n}\n\n#sk-container-id-3 div.sk-label.fitted input.sk-toggleable__control:checked~label.sk-toggleable__label {\n  background-color: var(--sklearn-color-fitted-level-2);\n}\n\n/* Estimator-specific style */\n\n/* Colorize estimator box */\n#sk-container-id-3 div.sk-estimator input.sk-toggleable__control:checked~label.sk-toggleable__label {\n  /* unfitted */\n  background-color: var(--sklearn-color-unfitted-level-2);\n}\n\n#sk-container-id-3 div.sk-estimator.fitted input.sk-toggleable__control:checked~label.sk-toggleable__label {\n  /* fitted */\n  background-color: var(--sklearn-color-fitted-level-2);\n}\n\n#sk-container-id-3 div.sk-label label.sk-toggleable__label,\n#sk-container-id-3 div.sk-label label {\n  /* The background is the default theme color */\n  color: var(--sklearn-color-text-on-default-background);\n}\n\n/* On hover, darken the color of the background */\n#sk-container-id-3 div.sk-label:hover label.sk-toggleable__label {\n  color: var(--sklearn-color-text);\n  background-color: var(--sklearn-color-unfitted-level-2);\n}\n\n/* Label box, darken color on hover, fitted */\n#sk-container-id-3 div.sk-label.fitted:hover label.sk-toggleable__label.fitted {\n  color: var(--sklearn-color-text);\n  background-color: var(--sklearn-color-fitted-level-2);\n}\n\n/* Estimator label */\n\n#sk-container-id-3 div.sk-label label {\n  font-family: monospace;\n  font-weight: bold;\n  display: inline-block;\n  line-height: 1.2em;\n}\n\n#sk-container-id-3 div.sk-label-container {\n  text-align: center;\n}\n\n/* Estimator-specific */\n#sk-container-id-3 div.sk-estimator {\n  font-family: monospace;\n  border: 1px dotted var(--sklearn-color-border-box);\n  border-radius: 0.25em;\n  box-sizing: border-box;\n  margin-bottom: 0.5em;\n  /* unfitted */\n  background-color: var(--sklearn-color-unfitted-level-0);\n}\n\n#sk-container-id-3 div.sk-estimator.fitted {\n  /* fitted */\n  background-color: var(--sklearn-color-fitted-level-0);\n}\n\n/* on hover */\n#sk-container-id-3 div.sk-estimator:hover {\n  /* unfitted */\n  background-color: var(--sklearn-color-unfitted-level-2);\n}\n\n#sk-container-id-3 div.sk-estimator.fitted:hover {\n  /* fitted */\n  background-color: var(--sklearn-color-fitted-level-2);\n}\n\n/* Specification for estimator info (e.g. \"i\" and \"?\") */\n\n/* Common style for \"i\" and \"?\" */\n\n.sk-estimator-doc-link,\na:link.sk-estimator-doc-link,\na:visited.sk-estimator-doc-link {\n  float: right;\n  font-size: smaller;\n  line-height: 1em;\n  font-family: monospace;\n  background-color: var(--sklearn-color-background);\n  border-radius: 1em;\n  height: 1em;\n  width: 1em;\n  text-decoration: none !important;\n  margin-left: 1ex;\n  /* unfitted */\n  border: var(--sklearn-color-unfitted-level-1) 1pt solid;\n  color: var(--sklearn-color-unfitted-level-1);\n}\n\n.sk-estimator-doc-link.fitted,\na:link.sk-estimator-doc-link.fitted,\na:visited.sk-estimator-doc-link.fitted {\n  /* fitted */\n  border: var(--sklearn-color-fitted-level-1) 1pt solid;\n  color: var(--sklearn-color-fitted-level-1);\n}\n\n/* On hover */\ndiv.sk-estimator:hover .sk-estimator-doc-link:hover,\n.sk-estimator-doc-link:hover,\ndiv.sk-label-container:hover .sk-estimator-doc-link:hover,\n.sk-estimator-doc-link:hover {\n  /* unfitted */\n  background-color: var(--sklearn-color-unfitted-level-3);\n  color: var(--sklearn-color-background);\n  text-decoration: none;\n}\n\ndiv.sk-estimator.fitted:hover .sk-estimator-doc-link.fitted:hover,\n.sk-estimator-doc-link.fitted:hover,\ndiv.sk-label-container:hover .sk-estimator-doc-link.fitted:hover,\n.sk-estimator-doc-link.fitted:hover {\n  /* fitted */\n  background-color: var(--sklearn-color-fitted-level-3);\n  color: var(--sklearn-color-background);\n  text-decoration: none;\n}\n\n/* Span, style for the box shown on hovering the info icon */\n.sk-estimator-doc-link span {\n  display: none;\n  z-index: 9999;\n  position: relative;\n  font-weight: normal;\n  right: .2ex;\n  padding: .5ex;\n  margin: .5ex;\n  width: min-content;\n  min-width: 20ex;\n  max-width: 50ex;\n  color: var(--sklearn-color-text);\n  box-shadow: 2pt 2pt 4pt #999;\n  /* unfitted */\n  background: var(--sklearn-color-unfitted-level-0);\n  border: .5pt solid var(--sklearn-color-unfitted-level-3);\n}\n\n.sk-estimator-doc-link.fitted span {\n  /* fitted */\n  background: var(--sklearn-color-fitted-level-0);\n  border: var(--sklearn-color-fitted-level-3);\n}\n\n.sk-estimator-doc-link:hover span {\n  display: block;\n}\n\n/* \"?\"-specific style due to the `<a>` HTML tag */\n\n#sk-container-id-3 a.estimator_doc_link {\n  float: right;\n  font-size: 1rem;\n  line-height: 1em;\n  font-family: monospace;\n  background-color: var(--sklearn-color-background);\n  border-radius: 1rem;\n  height: 1rem;\n  width: 1rem;\n  text-decoration: none;\n  /* unfitted */\n  color: var(--sklearn-color-unfitted-level-1);\n  border: var(--sklearn-color-unfitted-level-1) 1pt solid;\n}\n\n#sk-container-id-3 a.estimator_doc_link.fitted {\n  /* fitted */\n  border: var(--sklearn-color-fitted-level-1) 1pt solid;\n  color: var(--sklearn-color-fitted-level-1);\n}\n\n/* On hover */\n#sk-container-id-3 a.estimator_doc_link:hover {\n  /* unfitted */\n  background-color: var(--sklearn-color-unfitted-level-3);\n  color: var(--sklearn-color-background);\n  text-decoration: none;\n}\n\n#sk-container-id-3 a.estimator_doc_link.fitted:hover {\n  /* fitted */\n  background-color: var(--sklearn-color-fitted-level-3);\n}\n</style><div id=\"sk-container-id-3\" class=\"sk-top-container\"><div class=\"sk-text-repr-fallback\"><pre>SVC(kernel=&#x27;linear&#x27;, probability=True)</pre><b>In a Jupyter environment, please rerun this cell to show the HTML representation or trust the notebook. <br />On GitHub, the HTML representation is unable to render, please try loading this page with nbviewer.org.</b></div><div class=\"sk-container\" hidden><div class=\"sk-item\"><div class=\"sk-estimator fitted sk-toggleable\"><input class=\"sk-toggleable__control sk-hidden--visually\" id=\"sk-estimator-id-3\" type=\"checkbox\" checked><label for=\"sk-estimator-id-3\" class=\"sk-toggleable__label fitted sk-toggleable__label-arrow fitted\">&nbsp;&nbsp;SVC<a class=\"sk-estimator-doc-link fitted\" rel=\"noreferrer\" target=\"_blank\" href=\"https://scikit-learn.org/1.4/modules/generated/sklearn.svm.SVC.html\">?<span>Documentation for SVC</span></a><span class=\"sk-estimator-doc-link fitted\">i<span>Fitted</span></span></label><div class=\"sk-toggleable__content fitted\"><pre>SVC(kernel=&#x27;linear&#x27;, probability=True)</pre></div> </div></div></div></div>"
     },
     "execution_count": 34,
     "metadata": {},
     "output_type": "execute_result"
    }
   ],
   "source": [
    "from sklearn.svm import SVC\n",
    "from sklearn.metrics import roc_auc_score, classification_report\n",
    "\n",
    "model = SVC(kernel='linear', probability=True)\n",
    "model.fit(X_train_vect, y_train)"
   ],
   "metadata": {
    "collapsed": false
   }
  },
  {
   "cell_type": "code",
   "execution_count": 35,
   "outputs": [
    {
     "name": "stdout",
     "output_type": "stream",
     "text": [
      "ROC-AUC: 0.9821670080432785\n",
      "Classification report:\n",
      "              precision    recall  f1-score   support\n",
      "\n",
      "           0       0.95      0.96      0.96      2321\n",
      "           1       0.91      0.89      0.90       935\n",
      "\n",
      "    accuracy                           0.94      3256\n",
      "   macro avg       0.93      0.92      0.93      3256\n",
      "weighted avg       0.94      0.94      0.94      3256\n",
      "\n"
     ]
    }
   ],
   "source": [
    "y_pred = model.predict(X_test_vect)\n",
    "y_pred_proba = model.predict_proba(X_test_vect)[:, 1]\n",
    "print(f\"ROC-AUC: {roc_auc_score(y_test, y_pred_proba)}\")\n",
    "print(f\"Classification report:\\n{classification_report(y_test, y_pred)}\")"
   ],
   "metadata": {
    "collapsed": false
   }
  },
  {
   "cell_type": "markdown",
   "source": [
    "### Градиентный бустинг (CatBoost)"
   ],
   "metadata": {
    "collapsed": false
   }
  },
  {
   "cell_type": "code",
   "execution_count": 58,
   "outputs": [
    {
     "data": {
      "text/plain": "MetricVisualizer(layout=Layout(align_self='stretch', height='500px'))",
      "application/vnd.jupyter.widget-view+json": {
       "version_major": 2,
       "version_minor": 0,
       "model_id": "1214620d025d42e7af440868b1ce301b"
      }
     },
     "metadata": {},
     "output_type": "display_data"
    },
    {
     "name": "stdout",
     "output_type": "stream",
     "text": [
      "0:\ttest: 0.6972483\tbest: 0.6972483 (0)\ttotal: 433ms\tremaining: 7m 56s\n",
      "50:\ttest: 0.9448228\tbest: 0.9448228 (50)\ttotal: 9.79s\tremaining: 3m 21s\n",
      "100:\ttest: 0.9631120\tbest: 0.9631120 (100)\ttotal: 14.8s\tremaining: 2m 26s\n",
      "150:\ttest: 0.9714983\tbest: 0.9714983 (150)\ttotal: 19.9s\tremaining: 2m 5s\n",
      "200:\ttest: 0.9764681\tbest: 0.9764681 (200)\ttotal: 24.9s\tremaining: 1m 51s\n",
      "250:\ttest: 0.9779726\tbest: 0.9779726 (250)\ttotal: 30s\tremaining: 1m 41s\n",
      "300:\ttest: 0.9789896\tbest: 0.9789896 (300)\ttotal: 35.1s\tremaining: 1m 33s\n",
      "350:\ttest: 0.9797448\tbest: 0.9797448 (350)\ttotal: 40.1s\tremaining: 1m 25s\n",
      "400:\ttest: 0.9800856\tbest: 0.9800856 (400)\ttotal: 45.2s\tremaining: 1m 18s\n",
      "450:\ttest: 0.9808445\tbest: 0.9808445 (450)\ttotal: 50.2s\tremaining: 1m 12s\n",
      "500:\ttest: 0.9808795\tbest: 0.9808795 (500)\ttotal: 55.3s\tremaining: 1m 6s\n",
      "550:\ttest: 0.9812297\tbest: 0.9812297 (550)\ttotal: 1m\tremaining: 1m\n",
      "600:\ttest: 0.9815228\tbest: 0.9815228 (600)\ttotal: 1m 5s\tremaining: 54.1s\n",
      "650:\ttest: 0.9816281\tbest: 0.9816281 (650)\ttotal: 1m 10s\tremaining: 48.4s\n",
      "700:\ttest: 0.9819438\tbest: 0.9819438 (700)\ttotal: 1m 15s\tremaining: 42.8s\n",
      "750:\ttest: 0.9821094\tbest: 0.9821094 (750)\ttotal: 1m 20s\tremaining: 37.3s\n",
      "800:\ttest: 0.9821099\tbest: 0.9821099 (800)\ttotal: 1m 25s\tremaining: 31.9s\n",
      "850:\ttest: 0.9822177\tbest: 0.9822177 (850)\ttotal: 1m 30s\tremaining: 26.5s\n",
      "900:\ttest: 0.9824285\tbest: 0.9824285 (900)\ttotal: 1m 35s\tremaining: 21.1s\n",
      "950:\ttest: 0.9824799\tbest: 0.9824799 (950)\ttotal: 1m 41s\tremaining: 15.8s\n",
      "1000:\ttest: 0.9825820\tbest: 0.9825820 (1000)\ttotal: 1m 49s\tremaining: 10.8s\n",
      "1050:\ttest: 0.9827702\tbest: 0.9827702 (1050)\ttotal: 2m\tremaining: 5.61s\n",
      "1099:\ttest: 0.9828868\tbest: 0.9828868 (1099)\ttotal: 2m 5s\tremaining: 0us\n",
      "\n",
      "bestTest = 0.9828867789\n",
      "bestIteration = 1099\n",
      "\n"
     ]
    },
    {
     "data": {
      "text/plain": "<catboost.core.CatBoostClassifier at 0x288db64d0>"
     },
     "execution_count": 58,
     "metadata": {},
     "output_type": "execute_result"
    }
   ],
   "source": [
    "from catboost import CatBoostClassifier, Pool\n",
    "from sklearn.metrics import roc_auc_score, classification_report\n",
    "\n",
    "train_pool = Pool(\n",
    "    data=X_train_vect,\n",
    "    label=y_train,\n",
    ")\n",
    "\n",
    "test_pool = Pool(\n",
    "    data=X_test_vect,\n",
    "    label=y_test,\n",
    ")\n",
    "\n",
    "catboost_model = CatBoostClassifier(\n",
    "    metric_period=50,\n",
    "    use_best_model=True,\n",
    "    iterations=1100,\n",
    "    depth=7,\n",
    "    learning_rate=0.1,\n",
    "    loss_function='Logloss',\n",
    "    eval_metric='AUC',\n",
    "    random_seed=42,\n",
    ")\n",
    "\n",
    "catboost_model.fit(train_pool, eval_set=test_pool, plot=True)"
   ],
   "metadata": {
    "collapsed": false
   }
  },
  {
   "cell_type": "code",
   "execution_count": 59,
   "outputs": [
    {
     "name": "stdout",
     "output_type": "stream",
     "text": [
      "ROC-AUC: 0.9828867789331077\n",
      "Classification report:\n",
      "              precision    recall  f1-score   support\n",
      "\n",
      "           0       0.94      0.98      0.96      2321\n",
      "           1       0.94      0.84      0.89       935\n",
      "\n",
      "    accuracy                           0.94      3256\n",
      "   macro avg       0.94      0.91      0.92      3256\n",
      "weighted avg       0.94      0.94      0.94      3256\n",
      "\n"
     ]
    }
   ],
   "source": [
    "y_pred = catboost_model.predict(X_test_vect)\n",
    "y_pred_proba = catboost_model.predict_proba(X_test_vect)[:, 1]\n",
    "print(f\"ROC-AUC: {roc_auc_score(y_test, y_pred_proba)}\")\n",
    "print(f\"Classification report:\\n{classification_report(y_test, y_pred)}\")"
   ],
   "metadata": {
    "collapsed": false
   }
  },
  {
   "cell_type": "code",
   "execution_count": null,
   "outputs": [],
   "source": [],
   "metadata": {
    "collapsed": false
   }
  }
 ],
 "metadata": {
  "kernelspec": {
   "display_name": "Python 3",
   "language": "python",
   "name": "python3"
  },
  "language_info": {
   "codemirror_mode": {
    "name": "ipython",
    "version": 2
   },
   "file_extension": ".py",
   "mimetype": "text/x-python",
   "name": "python",
   "nbconvert_exporter": "python",
   "pygments_lexer": "ipython2",
   "version": "2.7.6"
  }
 },
 "nbformat": 4,
 "nbformat_minor": 0
}
