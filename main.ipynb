{
 "cells": [
  {
   "cell_type": "code",
   "execution_count": 1,
   "metadata": {
    "collapsed": true
   },
   "outputs": [],
   "source": [
    "import pandas as pd"
   ]
  },
  {
   "cell_type": "code",
   "execution_count": 2,
   "outputs": [
    {
     "data": {
      "text/plain": "  text_type                                               text\n0       ham  make sure alex knows his birthday is over in f...\n1       ham  a resume for john lavorato thanks vince i will...\n2      spam  plzz visit my website moviesgodml to get all m...\n3      spam  urgent your mobile number has been awarded wit...\n4       ham  overview of hr associates analyst project per ...",
      "text/html": "<div>\n<style scoped>\n    .dataframe tbody tr th:only-of-type {\n        vertical-align: middle;\n    }\n\n    .dataframe tbody tr th {\n        vertical-align: top;\n    }\n\n    .dataframe thead th {\n        text-align: right;\n    }\n</style>\n<table border=\"1\" class=\"dataframe\">\n  <thead>\n    <tr style=\"text-align: right;\">\n      <th></th>\n      <th>text_type</th>\n      <th>text</th>\n    </tr>\n  </thead>\n  <tbody>\n    <tr>\n      <th>0</th>\n      <td>ham</td>\n      <td>make sure alex knows his birthday is over in f...</td>\n    </tr>\n    <tr>\n      <th>1</th>\n      <td>ham</td>\n      <td>a resume for john lavorato thanks vince i will...</td>\n    </tr>\n    <tr>\n      <th>2</th>\n      <td>spam</td>\n      <td>plzz visit my website moviesgodml to get all m...</td>\n    </tr>\n    <tr>\n      <th>3</th>\n      <td>spam</td>\n      <td>urgent your mobile number has been awarded wit...</td>\n    </tr>\n    <tr>\n      <th>4</th>\n      <td>ham</td>\n      <td>overview of hr associates analyst project per ...</td>\n    </tr>\n  </tbody>\n</table>\n</div>"
     },
     "execution_count": 2,
     "metadata": {},
     "output_type": "execute_result"
    }
   ],
   "source": [
    "data = pd.read_csv('data/train_spam.csv')\n",
    "data.head()"
   ],
   "metadata": {
    "collapsed": false
   }
  },
  {
   "cell_type": "markdown",
   "source": [
    "# Анализ и предобработка данных"
   ],
   "metadata": {
    "collapsed": false
   }
  },
  {
   "cell_type": "code",
   "execution_count": 3,
   "outputs": [],
   "source": [
    "# заменим spam на 1 и ham на 0\n",
    "data.loc[data['text_type'] == 'spam', 'text_type'] = 1\n",
    "data.loc[data['text_type'] == 'ham', 'text_type'] = 0\n",
    "data['text_type'] = data['text_type'].astype(int)"
   ],
   "metadata": {
    "collapsed": false
   }
  },
  {
   "cell_type": "code",
   "execution_count": 4,
   "outputs": [
    {
     "data": {
      "text/plain": "text_type    0\ntext         0\ndtype: int64"
     },
     "execution_count": 4,
     "metadata": {},
     "output_type": "execute_result"
    }
   ],
   "source": [
    "# посмотрим на пропуски\n",
    "data.isna().sum()"
   ],
   "metadata": {
    "collapsed": false
   }
  },
  {
   "cell_type": "code",
   "execution_count": 5,
   "outputs": [
    {
     "data": {
      "text/plain": "            text\ntext_type       \n0          11469\n1           4809",
      "text/html": "<div>\n<style scoped>\n    .dataframe tbody tr th:only-of-type {\n        vertical-align: middle;\n    }\n\n    .dataframe tbody tr th {\n        vertical-align: top;\n    }\n\n    .dataframe thead th {\n        text-align: right;\n    }\n</style>\n<table border=\"1\" class=\"dataframe\">\n  <thead>\n    <tr style=\"text-align: right;\">\n      <th></th>\n      <th>text</th>\n    </tr>\n    <tr>\n      <th>text_type</th>\n      <th></th>\n    </tr>\n  </thead>\n  <tbody>\n    <tr>\n      <th>0</th>\n      <td>11469</td>\n    </tr>\n    <tr>\n      <th>1</th>\n      <td>4809</td>\n    </tr>\n  </tbody>\n</table>\n</div>"
     },
     "execution_count": 5,
     "metadata": {},
     "output_type": "execute_result"
    }
   ],
   "source": [
    "# посмотрим на сбаллансированность данных\n",
    "data.groupby(by='text_type').count()"
   ],
   "metadata": {
    "collapsed": false
   }
  },
  {
   "cell_type": "code",
   "execution_count": 6,
   "outputs": [
    {
     "name": "stderr",
     "output_type": "stream",
     "text": [
      "[nltk_data] Downloading package stopwords to\n",
      "[nltk_data]     /Users/kudr.max/nltk_data...\n",
      "[nltk_data]   Package stopwords is already up-to-date!\n",
      "[nltk_data] Downloading package wordnet to\n",
      "[nltk_data]     /Users/kudr.max/nltk_data...\n",
      "[nltk_data]   Package wordnet is already up-to-date!\n"
     ]
    },
    {
     "data": {
      "text/plain": "   text_type                                               text  \\\n0          0  make sure alex knows his birthday is over in f...   \n1          0  a resume for john lavorato thanks vince i will...   \n2          1  plzz visit my website moviesgodml to get all m...   \n3          1  urgent your mobile number has been awarded wit...   \n4          0  overview of hr associates analyst project per ...   \n\n                                        cleared_text  \\\n0  make sure alex knows birthday fifteen minutes ...   \n1  resume john lavorato thanks vince get moving r...   \n2  plzz visit website moviesgodml get movies free...   \n3  urgent mobile number awarded £ prize guarantee...   \n4  overview hr associates analyst project per dav...   \n\n                                   cleared_text_stem  \\\n0  make sure alex know birthday fifteen minut far...   \n1  resum john lavorato thank vinc get move right ...   \n2  plzz visit websit moviesgodml get movi free al...   \n3  urgent mobil number award £ prize guarante cal...   \n4  overview hr associ analyst project per david r...   \n\n                              cleared_text_lemmatize  \n0  make sure alex know birthday fifteen minute fa...  \n1  resume john lavorato thanks vince get moving r...  \n2  plzz visit website moviesgodml get movie free ...  \n3  urgent mobile number awarded £ prize guarantee...  \n4  overview hr associate analyst project per davi...  ",
      "text/html": "<div>\n<style scoped>\n    .dataframe tbody tr th:only-of-type {\n        vertical-align: middle;\n    }\n\n    .dataframe tbody tr th {\n        vertical-align: top;\n    }\n\n    .dataframe thead th {\n        text-align: right;\n    }\n</style>\n<table border=\"1\" class=\"dataframe\">\n  <thead>\n    <tr style=\"text-align: right;\">\n      <th></th>\n      <th>text_type</th>\n      <th>text</th>\n      <th>cleared_text</th>\n      <th>cleared_text_stem</th>\n      <th>cleared_text_lemmatize</th>\n    </tr>\n  </thead>\n  <tbody>\n    <tr>\n      <th>0</th>\n      <td>0</td>\n      <td>make sure alex knows his birthday is over in f...</td>\n      <td>make sure alex knows birthday fifteen minutes ...</td>\n      <td>make sure alex know birthday fifteen minut far...</td>\n      <td>make sure alex know birthday fifteen minute fa...</td>\n    </tr>\n    <tr>\n      <th>1</th>\n      <td>0</td>\n      <td>a resume for john lavorato thanks vince i will...</td>\n      <td>resume john lavorato thanks vince get moving r...</td>\n      <td>resum john lavorato thank vinc get move right ...</td>\n      <td>resume john lavorato thanks vince get moving r...</td>\n    </tr>\n    <tr>\n      <th>2</th>\n      <td>1</td>\n      <td>plzz visit my website moviesgodml to get all m...</td>\n      <td>plzz visit website moviesgodml get movies free...</td>\n      <td>plzz visit websit moviesgodml get movi free al...</td>\n      <td>plzz visit website moviesgodml get movie free ...</td>\n    </tr>\n    <tr>\n      <th>3</th>\n      <td>1</td>\n      <td>urgent your mobile number has been awarded wit...</td>\n      <td>urgent mobile number awarded £ prize guarantee...</td>\n      <td>urgent mobil number award £ prize guarante cal...</td>\n      <td>urgent mobile number awarded £ prize guarantee...</td>\n    </tr>\n    <tr>\n      <th>4</th>\n      <td>0</td>\n      <td>overview of hr associates analyst project per ...</td>\n      <td>overview hr associates analyst project per dav...</td>\n      <td>overview hr associ analyst project per david r...</td>\n      <td>overview hr associate analyst project per davi...</td>\n    </tr>\n  </tbody>\n</table>\n</div>"
     },
     "execution_count": 6,
     "metadata": {},
     "output_type": "execute_result"
    }
   ],
   "source": [
    "# предобработаем текста\n",
    "\n",
    "import string\n",
    "import re\n",
    "import nltk\n",
    "from nltk.corpus import stopwords\n",
    "from nltk.stem.porter import PorterStemmer\n",
    "from nltk.stem import WordNetLemmatizer\n",
    "\n",
    "nltk.download('stopwords')\n",
    "nltk.download('wordnet')\n",
    "\n",
    "\n",
    "def clear_text(text: str, method=None):\n",
    "    \"\"\"\n",
    "    Функция для предобработки текста\n",
    "\n",
    "    Parameters\n",
    "    ----------\n",
    "    text\n",
    "    method:\n",
    "        - 'lemmatize': использовать WordNetLemmatizer()\n",
    "        - 'stem': использовать PorterStemmer()\n",
    "        - None: не использовать обработку слов\n",
    "\n",
    "    Returns\n",
    "    -------\n",
    "    Текст, готовый к векторизации\n",
    "    \"\"\"\n",
    "    stopwords_set = set(stopwords.words('english'))\n",
    "\n",
    "    text = text.strip().lower()\n",
    "    text = text.translate(str.maketrans('', '', string.punctuation))  # удаление пунктуации\n",
    "    text = re.sub(r'\\d+', '', text)  # удаление чисел\n",
    "    text_list = text.split()\n",
    "    text_list = [word for word in text_list if word not in stopwords_set]\n",
    "    if method == 'lemmatize':\n",
    "        lemmatizer = WordNetLemmatizer()\n",
    "        text_list = [lemmatizer.lemmatize(word) for word in text_list]\n",
    "    elif method == 'stem':\n",
    "        stemmer = PorterStemmer()\n",
    "        text_list = [stemmer.stem(word) for word in text_list]\n",
    "    text = ' '.join(text_list)\n",
    "    return text\n",
    "\n",
    "\n",
    "data['cleared_text'] = data['text'].apply(clear_text)\n",
    "data['cleared_text_stem'] = data['text'].apply(clear_text, method='stem')\n",
    "data['cleared_text_lemmatize'] = data['text'].apply(clear_text, method='lemmatize')\n",
    "data.head()"
   ],
   "metadata": {
    "collapsed": false
   }
  },
  {
   "cell_type": "code",
   "execution_count": 7,
   "outputs": [],
   "source": [
    "X = data['cleared_text_stem']\n",
    "y = data['text_type']"
   ],
   "metadata": {
    "collapsed": false
   }
  },
  {
   "cell_type": "code",
   "execution_count": 8,
   "outputs": [],
   "source": [
    "# векторизируем текст\n",
    "\n",
    "from sklearn.model_selection import train_test_split\n",
    "from sklearn.feature_extraction.text import TfidfVectorizer, CountVectorizer\n",
    "\n",
    "X_train, X_test, y_train, y_test = train_test_split(X, y, test_size=0.2, random_state=42)\n",
    "\n",
    "tfidf_vect = TfidfVectorizer()\n",
    "# count_vect = CountVectorizer()\n",
    "\n",
    "tfidf_vect.fit(X_train)\n",
    "# count_vect.fit(X_train)\n",
    "\n",
    "X_train_vect = tfidf_vect.transform(X_train)\n",
    "X_test_vect = tfidf_vect.transform(X_test)\n",
    "# X_train_vect = count_vect.transform(X_train)\n",
    "# X_test_vect = count_vect.transform(X_test)"
   ],
   "metadata": {
    "collapsed": false
   }
  },
  {
   "cell_type": "markdown",
   "source": [
    "# Обучение модели\n",
    "\n",
    "Рассмотрим несколько моделей и для каждой из них подберем оптимальные гиперпараметры"
   ],
   "metadata": {
    "collapsed": false
   }
  },
  {
   "cell_type": "code",
   "execution_count": 9,
   "outputs": [],
   "source": [
    "from sklearn.metrics import roc_auc_score, classification_report\n",
    "from sklearn.model_selection import GridSearchCV\n",
    "import numpy as np"
   ],
   "metadata": {
    "collapsed": false
   }
  },
  {
   "cell_type": "markdown",
   "source": [
    "### Логистическая регрессия"
   ],
   "metadata": {
    "collapsed": false
   }
  },
  {
   "cell_type": "code",
   "execution_count": 10,
   "outputs": [
    {
     "name": "stdout",
     "output_type": "stream",
     "text": [
      "Лучший roc_auc: 0.9776756178251041\n",
      "При параметрах: {'C': 10}\n"
     ]
    }
   ],
   "source": [
    "from sklearn.linear_model import LogisticRegression\n",
    "\n",
    "model = LogisticRegression()\n",
    "\n",
    "parameters = {\n",
    "    'C': [0.001, 0.01, 0.1, 1, 10, 100, 1000]\n",
    "}\n",
    "\n",
    "grid_search = GridSearchCV(\n",
    "    estimator=model,\n",
    "    param_grid=parameters,\n",
    "    scoring='roc_auc',\n",
    "    cv=5)\n",
    "\n",
    "grid_search.fit(X_train_vect, y_train)\n",
    "\n",
    "print(f'Лучший roc_auc: {grid_search.best_score_}')\n",
    "print(f'При параметрах: {grid_search.best_params_}')"
   ],
   "metadata": {
    "collapsed": false
   }
  },
  {
   "cell_type": "code",
   "execution_count": 11,
   "outputs": [
    {
     "name": "stdout",
     "output_type": "stream",
     "text": [
      "ROC-AUC on test: 0.9819255484105828\n",
      "Classification report:\n",
      "              precision    recall  f1-score   support\n",
      "\n",
      "           0       0.95      0.97      0.96      2321\n",
      "           1       0.91      0.88      0.89       935\n",
      "\n",
      "    accuracy                           0.94      3256\n",
      "   macro avg       0.93      0.92      0.93      3256\n",
      "weighted avg       0.94      0.94      0.94      3256\n",
      "\n"
     ]
    }
   ],
   "source": [
    "model = grid_search.best_estimator_\n",
    "model.fit(X_train_vect, y_train)\n",
    "\n",
    "y_pred = model.predict(X_test_vect)\n",
    "y_pred_proba = model.predict_proba(X_test_vect)[:, 1]\n",
    "print(f\"ROC-AUC on test: {roc_auc_score(y_test, y_pred_proba)}\")\n",
    "print(f\"Classification report:\\n{classification_report(y_test, y_pred)}\")"
   ],
   "metadata": {
    "collapsed": false
   }
  },
  {
   "cell_type": "markdown",
   "source": [
    "### SVM"
   ],
   "metadata": {
    "collapsed": false
   }
  },
  {
   "cell_type": "code",
   "execution_count": 13,
   "outputs": [
    {
     "name": "stdout",
     "output_type": "stream",
     "text": [
      "Лучший roc_auc: 0.9807214073960498\n",
      "При параметрах: {'C': 10}\n"
     ]
    }
   ],
   "source": [
    "from sklearn.svm import SVC\n",
    "\n",
    "model = SVC()\n",
    "\n",
    "parameters = {\n",
    "    'C': [1, 10]\n",
    "}\n",
    "\n",
    "grid_search = GridSearchCV(\n",
    "    estimator=model,\n",
    "    param_grid=parameters,\n",
    "    scoring='roc_auc',\n",
    "    cv=5)\n",
    "\n",
    "grid_search.fit(X_train_vect, y_train)\n",
    "\n",
    "print(f'Лучший roc_auc: {grid_search.best_score_}')\n",
    "print(f'При параметрах: {grid_search.best_params_}')"
   ],
   "metadata": {
    "collapsed": false
   }
  },
  {
   "cell_type": "code",
   "execution_count": 16,
   "outputs": [
    {
     "name": "stdout",
     "output_type": "stream",
     "text": [
      "ROC-AUC on test: 0.9242998707453683\n",
      "Classification report:\n",
      "              precision    recall  f1-score   support\n",
      "\n",
      "           0       0.95      0.98      0.96      2321\n",
      "           1       0.94      0.87      0.90       935\n",
      "\n",
      "    accuracy                           0.95      3256\n",
      "   macro avg       0.94      0.92      0.93      3256\n",
      "weighted avg       0.95      0.95      0.95      3256\n",
      "\n"
     ]
    }
   ],
   "source": [
    "model = grid_search.best_estimator_\n",
    "model.fit(X_train_vect, y_train)\n",
    "\n",
    "y_pred = model.predict(X_test_vect)\n",
    "print(f\"ROC-AUC on test: {roc_auc_score(y_test, y_pred)}\")\n",
    "print(f\"Classification report:\\n{classification_report(y_test, y_pred)}\")"
   ],
   "metadata": {
    "collapsed": false
   }
  },
  {
   "cell_type": "markdown",
   "source": [
    "### Градиентный бустинг (CatBoost)"
   ],
   "metadata": {
    "collapsed": false
   }
  },
  {
   "cell_type": "code",
   "execution_count": 30,
   "outputs": [
    {
     "name": "stdout",
     "output_type": "stream",
     "text": [
      "0:\ttest: 0.6586458\tbest: 0.6586458 (0)\ttotal: 929ms\tremaining: 18m 34s\n",
      "100:\ttest: 0.9065830\tbest: 0.9065830 (100)\ttotal: 7.8s\tremaining: 1m 24s\n",
      "200:\ttest: 0.9315541\tbest: 0.9315541 (200)\ttotal: 11.3s\tremaining: 56.3s\n",
      "300:\ttest: 0.9451815\tbest: 0.9451815 (300)\ttotal: 14.8s\tremaining: 44.2s\n",
      "400:\ttest: 0.9521601\tbest: 0.9521601 (400)\ttotal: 18.2s\tremaining: 36.2s\n",
      "500:\ttest: 0.9560932\tbest: 0.9560932 (500)\ttotal: 21.6s\tremaining: 30.2s\n",
      "600:\ttest: 0.9598429\tbest: 0.9598429 (600)\ttotal: 25.1s\tremaining: 25s\n",
      "700:\ttest: 0.9619161\tbest: 0.9619161 (700)\ttotal: 28.5s\tremaining: 20.3s\n",
      "800:\ttest: 0.9632587\tbest: 0.9632587 (800)\ttotal: 31.9s\tremaining: 15.9s\n",
      "900:\ttest: 0.9641415\tbest: 0.9641415 (900)\ttotal: 35.3s\tremaining: 11.7s\n",
      "1000:\ttest: 0.9646061\tbest: 0.9646061 (1000)\ttotal: 39s\tremaining: 7.75s\n",
      "1100:\ttest: 0.9657778\tbest: 0.9657778 (1100)\ttotal: 42.7s\tremaining: 3.84s\n",
      "1199:\ttest: 0.9664009\tbest: 0.9664009 (1199)\ttotal: 46.1s\tremaining: 0us\n",
      "\n",
      "bestTest = 0.9664008527\n",
      "bestIteration = 1199\n",
      "\n",
      "Metric AUC is not calculated on train by default. To calculate this metric on train, add hints=skip_train~false to metric parameters.\n",
      "0:\tloss: 0.9664009\tbest: 0.9664009 (0)\ttotal: 48.2s\tremaining: 1m 36s\n",
      "0:\ttest: 0.6923146\tbest: 0.6923146 (0)\ttotal: 103ms\tremaining: 2m 4s\n",
      "100:\ttest: 0.9169271\tbest: 0.9169271 (100)\ttotal: 7.91s\tremaining: 1m 26s\n",
      "200:\ttest: 0.9469242\tbest: 0.9469242 (200)\ttotal: 15.3s\tremaining: 1m 16s\n",
      "300:\ttest: 0.9554722\tbest: 0.9554722 (300)\ttotal: 22.4s\tremaining: 1m 6s\n",
      "400:\ttest: 0.9595062\tbest: 0.9595062 (400)\ttotal: 29.5s\tremaining: 58.8s\n",
      "500:\ttest: 0.9635087\tbest: 0.9635087 (500)\ttotal: 36.8s\tremaining: 51.3s\n",
      "600:\ttest: 0.9650863\tbest: 0.9650863 (600)\ttotal: 44.8s\tremaining: 44.6s\n",
      "700:\ttest: 0.9664230\tbest: 0.9664230 (700)\ttotal: 52.2s\tremaining: 37.2s\n",
      "800:\ttest: 0.9674185\tbest: 0.9674185 (800)\ttotal: 60s\tremaining: 29.9s\n",
      "900:\ttest: 0.9683402\tbest: 0.9683402 (900)\ttotal: 1m 7s\tremaining: 22.3s\n",
      "1000:\ttest: 0.9686855\tbest: 0.9686855 (1000)\ttotal: 1m 14s\tremaining: 14.9s\n",
      "1100:\ttest: 0.9691273\tbest: 0.9691273 (1100)\ttotal: 1m 22s\tremaining: 7.4s\n",
      "1199:\ttest: 0.9695354\tbest: 0.9695354 (1199)\ttotal: 1m 29s\tremaining: 0us\n",
      "\n",
      "bestTest = 0.9695354185\n",
      "bestIteration = 1199\n",
      "\n",
      "Metric AUC is not calculated on train by default. To calculate this metric on train, add hints=skip_train~false to metric parameters.\n",
      "1:\tloss: 0.9695354\tbest: 0.9695354 (1)\ttotal: 2m 17s\tremaining: 1m 8s\n",
      "0:\ttest: 0.7502101\tbest: 0.7502101 (0)\ttotal: 586ms\tremaining: 11m 42s\n",
      "100:\ttest: 0.9422449\tbest: 0.9422449 (100)\ttotal: 1m 2s\tremaining: 11m 25s\n",
      "200:\ttest: 0.9585696\tbest: 0.9585696 (200)\ttotal: 2m 5s\tremaining: 10m 23s\n",
      "300:\ttest: 0.9639209\tbest: 0.9639209 (300)\ttotal: 3m 8s\tremaining: 9m 22s\n",
      "400:\ttest: 0.9669931\tbest: 0.9669931 (400)\ttotal: 4m 11s\tremaining: 8m 20s\n",
      "500:\ttest: 0.9688079\tbest: 0.9688079 (500)\ttotal: 5m 13s\tremaining: 7m 17s\n",
      "600:\ttest: 0.9697501\tbest: 0.9697501 (600)\ttotal: 6m 16s\tremaining: 6m 15s\n",
      "700:\ttest: 0.9705899\tbest: 0.9705899 (700)\ttotal: 7m 18s\tremaining: 5m 11s\n",
      "800:\ttest: 0.9709789\tbest: 0.9709789 (800)\ttotal: 8m 20s\tremaining: 4m 9s\n",
      "900:\ttest: 0.9714824\tbest: 0.9714824 (900)\ttotal: 9m 23s\tremaining: 3m 6s\n",
      "1000:\ttest: 0.9716859\tbest: 0.9716859 (1000)\ttotal: 10m 27s\tremaining: 2m 4s\n",
      "1100:\ttest: 0.9720847\tbest: 0.9720847 (1100)\ttotal: 11m 29s\tremaining: 1m 2s\n",
      "1199:\ttest: 0.9724793\tbest: 0.9724793 (1199)\ttotal: 12m 33s\tremaining: 0us\n",
      "\n",
      "bestTest = 0.9724792751\n",
      "bestIteration = 1199\n",
      "\n",
      "Metric AUC is not calculated on train by default. To calculate this metric on train, add hints=skip_train~false to metric parameters.\n",
      "2:\tloss: 0.9724793\tbest: 0.9724793 (2)\ttotal: 14m 51s\tremaining: 0us\n",
      "Estimating final quality...\n",
      "Training on fold [0/3]\n",
      "0:\ttest: 0.6990329\tbest: 0.6990329 (0)\ttotal: 517ms\tremaining: 10m 20s\n",
      "100:\ttest: 0.9473579\tbest: 0.9473579 (100)\ttotal: 47.8s\tremaining: 8m 40s\n",
      "200:\ttest: 0.9584787\tbest: 0.9584787 (200)\ttotal: 1m 37s\tremaining: 8m 2s\n",
      "300:\ttest: 0.9650266\tbest: 0.9650266 (300)\ttotal: 2m 31s\tremaining: 7m 32s\n",
      "400:\ttest: 0.9676953\tbest: 0.9676953 (400)\ttotal: 3m 15s\tremaining: 6m 30s\n",
      "500:\ttest: 0.9687983\tbest: 0.9687983 (500)\ttotal: 4m\tremaining: 5m 35s\n",
      "600:\ttest: 0.9698438\tbest: 0.9698438 (600)\ttotal: 4m 45s\tremaining: 4m 44s\n",
      "700:\ttest: 0.9705146\tbest: 0.9705146 (700)\ttotal: 5m 30s\tremaining: 3m 55s\n",
      "800:\ttest: 0.9708277\tbest: 0.9708277 (800)\ttotal: 6m 16s\tremaining: 3m 7s\n",
      "900:\ttest: 0.9712956\tbest: 0.9712956 (900)\ttotal: 7m\tremaining: 2m 19s\n",
      "1000:\ttest: 0.9717146\tbest: 0.9717146 (1000)\ttotal: 7m 45s\tremaining: 1m 32s\n",
      "1100:\ttest: 0.9719703\tbest: 0.9719703 (1100)\ttotal: 8m 29s\tremaining: 45.8s\n",
      "1199:\ttest: 0.9724199\tbest: 0.9724199 (1199)\ttotal: 9m 14s\tremaining: 0us\n",
      "\n",
      "bestTest = 0.9724199361\n",
      "bestIteration = 1199\n",
      "\n",
      "Training on fold [1/3]\n",
      "0:\ttest: 0.7097531\tbest: 0.7097531 (0)\ttotal: 429ms\tremaining: 8m 34s\n",
      "100:\ttest: 0.9456941\tbest: 0.9456941 (100)\ttotal: 46.5s\tremaining: 8m 26s\n",
      "200:\ttest: 0.9584315\tbest: 0.9584315 (200)\ttotal: 1m 31s\tremaining: 7m 34s\n",
      "300:\ttest: 0.9650238\tbest: 0.9650238 (300)\ttotal: 2m 16s\tremaining: 6m 48s\n",
      "400:\ttest: 0.9691940\tbest: 0.9691940 (400)\ttotal: 3m 2s\tremaining: 6m 3s\n"
     ]
    },
    {
     "ename": "KeyboardInterrupt",
     "evalue": "",
     "output_type": "error",
     "traceback": [
      "\u001B[0;31m---------------------------------------------------------------------------\u001B[0m",
      "\u001B[0;31mKeyboardInterrupt\u001B[0m                         Traceback (most recent call last)",
      "Cell \u001B[0;32mIn[30], line 25\u001B[0m\n\u001B[1;32m     14\u001B[0m parameters \u001B[38;5;241m=\u001B[39m {\n\u001B[1;32m     15\u001B[0m     \u001B[38;5;124m'\u001B[39m\u001B[38;5;124mdepth\u001B[39m\u001B[38;5;124m'\u001B[39m: [\u001B[38;5;241m4\u001B[39m, \u001B[38;5;241m6\u001B[39m, \u001B[38;5;241m10\u001B[39m],\n\u001B[1;32m     16\u001B[0m }\n\u001B[1;32m     18\u001B[0m catboost_model \u001B[38;5;241m=\u001B[39m CatBoostClassifier(\n\u001B[1;32m     19\u001B[0m     metric_period\u001B[38;5;241m=\u001B[39m\u001B[38;5;241m100\u001B[39m,\n\u001B[1;32m     20\u001B[0m     iterations\u001B[38;5;241m=\u001B[39m\u001B[38;5;241m1200\u001B[39m,\n\u001B[1;32m     21\u001B[0m     loss_function\u001B[38;5;241m=\u001B[39m\u001B[38;5;124m'\u001B[39m\u001B[38;5;124mLogloss\u001B[39m\u001B[38;5;124m'\u001B[39m,\n\u001B[1;32m     22\u001B[0m     eval_metric\u001B[38;5;241m=\u001B[39m\u001B[38;5;124m'\u001B[39m\u001B[38;5;124mAUC\u001B[39m\u001B[38;5;124m'\u001B[39m,\n\u001B[1;32m     23\u001B[0m )\n\u001B[0;32m---> 25\u001B[0m grid_search_result \u001B[38;5;241m=\u001B[39m \u001B[43mcatboost_model\u001B[49m\u001B[38;5;241;43m.\u001B[39;49m\u001B[43mgrid_search\u001B[49m\u001B[43m(\u001B[49m\n\u001B[1;32m     26\u001B[0m \u001B[43m    \u001B[49m\u001B[43mparameters\u001B[49m\u001B[43m,\u001B[49m\n\u001B[1;32m     27\u001B[0m \u001B[43m    \u001B[49m\u001B[43mX\u001B[49m\u001B[38;5;241;43m=\u001B[39;49m\u001B[43mX_train_vect\u001B[49m\u001B[43m,\u001B[49m\n\u001B[1;32m     28\u001B[0m \u001B[43m    \u001B[49m\u001B[43my\u001B[49m\u001B[38;5;241;43m=\u001B[39;49m\u001B[43my_train\u001B[49m\u001B[43m,\u001B[49m\n\u001B[1;32m     29\u001B[0m \u001B[43m    \u001B[49m\u001B[43mcv\u001B[49m\u001B[38;5;241;43m=\u001B[39;49m\u001B[38;5;241;43m3\u001B[39;49m\n\u001B[1;32m     30\u001B[0m \u001B[43m)\u001B[49m\n\u001B[1;32m     32\u001B[0m \u001B[38;5;66;03m# catboost_model = CatBoostClassifier(\u001B[39;00m\n\u001B[1;32m     33\u001B[0m \u001B[38;5;66;03m#     metric_period=50,\u001B[39;00m\n\u001B[1;32m     34\u001B[0m \u001B[38;5;66;03m#     use_best_model=True,\u001B[39;00m\n\u001B[0;32m   (...)\u001B[0m\n\u001B[1;32m     48\u001B[0m \u001B[38;5;66;03m# )\u001B[39;00m\n\u001B[1;32m     49\u001B[0m \u001B[38;5;66;03m# catboost_model.fit(train_pool, eval_set=test_pool)\u001B[39;00m\n",
      "File \u001B[0;32m~/PycharmProjects/spam-recognition/venv/lib/python3.11/site-packages/catboost/core.py:4190\u001B[0m, in \u001B[0;36mCatBoost.grid_search\u001B[0;34m(self, param_grid, X, y, cv, partition_random_seed, calc_cv_statistics, search_by_train_test_split, refit, shuffle, stratified, train_size, verbose, plot, plot_file, log_cout, log_cerr)\u001B[0m\n\u001B[1;32m   4187\u001B[0m         \u001B[38;5;28;01mif\u001B[39;00m \u001B[38;5;129;01mnot\u001B[39;00m \u001B[38;5;28misinstance\u001B[39m(grid[key], Iterable):\n\u001B[1;32m   4188\u001B[0m             \u001B[38;5;28;01mraise\u001B[39;00m \u001B[38;5;167;01mTypeError\u001B[39;00m(\u001B[38;5;124m'\u001B[39m\u001B[38;5;124mParameter grid value is not iterable (key=\u001B[39m\u001B[38;5;132;01m{!r}\u001B[39;00m\u001B[38;5;124m, value=\u001B[39m\u001B[38;5;132;01m{!r}\u001B[39;00m\u001B[38;5;124m)\u001B[39m\u001B[38;5;124m'\u001B[39m\u001B[38;5;241m.\u001B[39mformat(key, grid[key]))\n\u001B[0;32m-> 4190\u001B[0m \u001B[38;5;28;01mreturn\u001B[39;00m \u001B[38;5;28;43mself\u001B[39;49m\u001B[38;5;241;43m.\u001B[39;49m\u001B[43m_tune_hyperparams\u001B[49m\u001B[43m(\u001B[49m\n\u001B[1;32m   4191\u001B[0m \u001B[43m    \u001B[49m\u001B[43mparam_grid\u001B[49m\u001B[38;5;241;43m=\u001B[39;49m\u001B[43mparam_grid\u001B[49m\u001B[43m,\u001B[49m\u001B[43m \u001B[49m\u001B[43mX\u001B[49m\u001B[38;5;241;43m=\u001B[39;49m\u001B[43mX\u001B[49m\u001B[43m,\u001B[49m\u001B[43m \u001B[49m\u001B[43my\u001B[49m\u001B[38;5;241;43m=\u001B[39;49m\u001B[43my\u001B[49m\u001B[43m,\u001B[49m\u001B[43m \u001B[49m\u001B[43mcv\u001B[49m\u001B[38;5;241;43m=\u001B[39;49m\u001B[43mcv\u001B[49m\u001B[43m,\u001B[49m\u001B[43m \u001B[49m\u001B[43mn_iter\u001B[49m\u001B[38;5;241;43m=\u001B[39;49m\u001B[38;5;241;43m-\u001B[39;49m\u001B[38;5;241;43m1\u001B[39;49m\u001B[43m,\u001B[49m\n\u001B[1;32m   4192\u001B[0m \u001B[43m    \u001B[49m\u001B[43mpartition_random_seed\u001B[49m\u001B[38;5;241;43m=\u001B[39;49m\u001B[43mpartition_random_seed\u001B[49m\u001B[43m,\u001B[49m\u001B[43m \u001B[49m\u001B[43mcalc_cv_statistics\u001B[49m\u001B[38;5;241;43m=\u001B[39;49m\u001B[43mcalc_cv_statistics\u001B[49m\u001B[43m,\u001B[49m\n\u001B[1;32m   4193\u001B[0m \u001B[43m    \u001B[49m\u001B[43msearch_by_train_test_split\u001B[49m\u001B[38;5;241;43m=\u001B[39;49m\u001B[43msearch_by_train_test_split\u001B[49m\u001B[43m,\u001B[49m\u001B[43m \u001B[49m\u001B[43mrefit\u001B[49m\u001B[38;5;241;43m=\u001B[39;49m\u001B[43mrefit\u001B[49m\u001B[43m,\u001B[49m\u001B[43m \u001B[49m\u001B[43mshuffle\u001B[49m\u001B[38;5;241;43m=\u001B[39;49m\u001B[43mshuffle\u001B[49m\u001B[43m,\u001B[49m\n\u001B[1;32m   4194\u001B[0m \u001B[43m    \u001B[49m\u001B[43mstratified\u001B[49m\u001B[38;5;241;43m=\u001B[39;49m\u001B[43mstratified\u001B[49m\u001B[43m,\u001B[49m\u001B[43m \u001B[49m\u001B[43mtrain_size\u001B[49m\u001B[38;5;241;43m=\u001B[39;49m\u001B[43mtrain_size\u001B[49m\u001B[43m,\u001B[49m\u001B[43m \u001B[49m\u001B[43mverbose\u001B[49m\u001B[38;5;241;43m=\u001B[39;49m\u001B[43mverbose\u001B[49m\u001B[43m,\u001B[49m\u001B[43m \u001B[49m\u001B[43mplot\u001B[49m\u001B[38;5;241;43m=\u001B[39;49m\u001B[43mplot\u001B[49m\u001B[43m,\u001B[49m\u001B[43m \u001B[49m\u001B[43mplot_file\u001B[49m\u001B[38;5;241;43m=\u001B[39;49m\u001B[43mplot_file\u001B[49m\u001B[43m,\u001B[49m\n\u001B[1;32m   4195\u001B[0m \u001B[43m    \u001B[49m\u001B[43mlog_cout\u001B[49m\u001B[38;5;241;43m=\u001B[39;49m\u001B[43mlog_cout\u001B[49m\u001B[43m,\u001B[49m\u001B[43m \u001B[49m\u001B[43mlog_cerr\u001B[49m\u001B[38;5;241;43m=\u001B[39;49m\u001B[43mlog_cerr\u001B[49m\u001B[43m,\u001B[49m\n\u001B[1;32m   4196\u001B[0m \u001B[43m\u001B[49m\u001B[43m)\u001B[49m\n",
      "File \u001B[0;32m~/PycharmProjects/spam-recognition/venv/lib/python3.11/site-packages/catboost/core.py:4079\u001B[0m, in \u001B[0;36mCatBoost._tune_hyperparams\u001B[0;34m(self, param_grid, X, y, cv, n_iter, partition_random_seed, calc_cv_statistics, search_by_train_test_split, refit, shuffle, stratified, train_size, verbose, plot, plot_file, log_cout, log_cerr)\u001B[0m\n\u001B[1;32m   4076\u001B[0m     stratified \u001B[38;5;241m=\u001B[39m \u001B[38;5;28misinstance\u001B[39m(loss_function, STRING_TYPES) \u001B[38;5;129;01mand\u001B[39;00m is_cv_stratified_objective(loss_function)\n\u001B[1;32m   4078\u001B[0m \u001B[38;5;28;01mwith\u001B[39;00m plot_wrapper(plot, plot_file, \u001B[38;5;124m'\u001B[39m\u001B[38;5;124mHyperparameters search plot\u001B[39m\u001B[38;5;124m'\u001B[39m, [_get_train_dir(params)]):\n\u001B[0;32m-> 4079\u001B[0m     cv_result \u001B[38;5;241m=\u001B[39m \u001B[38;5;28;43mself\u001B[39;49m\u001B[38;5;241;43m.\u001B[39;49m\u001B[43m_object\u001B[49m\u001B[38;5;241;43m.\u001B[39;49m\u001B[43m_tune_hyperparams\u001B[49m\u001B[43m(\u001B[49m\n\u001B[1;32m   4080\u001B[0m \u001B[43m        \u001B[49m\u001B[43mparam_grid\u001B[49m\u001B[43m,\u001B[49m\u001B[43m \u001B[49m\u001B[43mtrain_params\u001B[49m\u001B[43m[\u001B[49m\u001B[38;5;124;43m\"\u001B[39;49m\u001B[38;5;124;43mtrain_pool\u001B[39;49m\u001B[38;5;124;43m\"\u001B[39;49m\u001B[43m]\u001B[49m\u001B[43m,\u001B[49m\u001B[43m \u001B[49m\u001B[43mparams\u001B[49m\u001B[43m,\u001B[49m\u001B[43m \u001B[49m\u001B[43mn_iter\u001B[49m\u001B[43m,\u001B[49m\n\u001B[1;32m   4081\u001B[0m \u001B[43m        \u001B[49m\u001B[43mfold_count\u001B[49m\u001B[43m,\u001B[49m\u001B[43m \u001B[49m\u001B[43mpartition_random_seed\u001B[49m\u001B[43m,\u001B[49m\u001B[43m \u001B[49m\u001B[43mshuffle\u001B[49m\u001B[43m,\u001B[49m\u001B[43m \u001B[49m\u001B[43mstratified\u001B[49m\u001B[43m,\u001B[49m\u001B[43m \u001B[49m\u001B[43mtrain_size\u001B[49m\u001B[43m,\u001B[49m\n\u001B[1;32m   4082\u001B[0m \u001B[43m        \u001B[49m\u001B[43msearch_by_train_test_split\u001B[49m\u001B[43m,\u001B[49m\u001B[43m \u001B[49m\u001B[43mcalc_cv_statistics\u001B[49m\u001B[43m,\u001B[49m\u001B[43m \u001B[49m\u001B[43mcustom_folds\u001B[49m\u001B[43m,\u001B[49m\u001B[43m \u001B[49m\u001B[43mverbose\u001B[49m\n\u001B[1;32m   4083\u001B[0m \u001B[43m    \u001B[49m\u001B[43m)\u001B[49m\n\u001B[1;32m   4085\u001B[0m \u001B[38;5;28;01mif\u001B[39;00m refit:\n\u001B[1;32m   4086\u001B[0m     \u001B[38;5;28;01massert\u001B[39;00m \u001B[38;5;129;01mnot\u001B[39;00m \u001B[38;5;28mself\u001B[39m\u001B[38;5;241m.\u001B[39mis_fitted()\n",
      "File \u001B[0;32m_catboost.pyx:5340\u001B[0m, in \u001B[0;36m_catboost._CatBoost._tune_hyperparams\u001B[0;34m()\u001B[0m\n",
      "File \u001B[0;32m_catboost.pyx:5378\u001B[0m, in \u001B[0;36m_catboost._CatBoost._tune_hyperparams\u001B[0;34m()\u001B[0m\n",
      "\u001B[0;31mKeyboardInterrupt\u001B[0m: "
     ]
    }
   ],
   "source": [
    "from catboost import CatBoostClassifier, Pool\n",
    "from sklearn.metrics import roc_auc_score, classification_report\n",
    "\n",
    "train_pool = Pool(\n",
    "    data=X_train_vect,\n",
    "    label=y_train,\n",
    ")\n",
    "\n",
    "test_pool = Pool(\n",
    "    data=X_test_vect,\n",
    "    label=y_test,\n",
    ")\n",
    "\n",
    "parameters = {\n",
    "    'depth': [4, 6, 10],\n",
    "}\n",
    "\n",
    "catboost_model = CatBoostClassifier(\n",
    "    metric_period=100,\n",
    "    iterations=1200,\n",
    "    loss_function='Logloss',\n",
    "    eval_metric='AUC',\n",
    ")\n",
    "\n",
    "grid_search_result = catboost_model.grid_search(\n",
    "    parameters,\n",
    "    X=X_train_vect,\n",
    "    y=y_train,\n",
    "    cv=3\n",
    ")\n",
    "\n",
    "# catboost_model = CatBoostClassifier(\n",
    "#     metric_period=50,\n",
    "#     use_best_model=True,\n",
    "#     iterations=1100,\n",
    "#     depth=7,\n",
    "#     learning_rate=0.1,\n",
    "#     loss_function='Logloss',\n",
    "#     eval_metric='AUC',\n",
    "#     random_seed=42,\n",
    "# )\n",
    "\n",
    "# catboost_model = CatBoostClassifier(\n",
    "#     metric_period=50,\n",
    "#     iterations=1200,\n",
    "#     loss_function='Logloss',\n",
    "#     eval_metric='AUC',\n",
    "# )\n",
    "# catboost_model.fit(train_pool, eval_set=test_pool)"
   ],
   "metadata": {
    "collapsed": false
   }
  },
  {
   "cell_type": "code",
   "execution_count": 29,
   "outputs": [
    {
     "data": {
      "text/plain": "{'params': {'depth': 10, 'learning_rate': 0.1},\n 'cv_results': defaultdict(list,\n             {'iterations': [0, 50, 99],\n              'test-AUC-mean': [0.7056238760568929,\n               0.9507888414933449,\n               0.9623946642269613],\n              'test-AUC-std': [0.005768529533307851,\n               0.0005150479080499211,\n               0.0004180761924597694],\n              'test-Logloss-mean': [0.6353816381029032,\n               0.3126873722953252,\n               0.2655740261953718],\n              'test-Logloss-std': [0.0019881238488726714,\n               0.002497119532633967,\n               0.0010855222083853428],\n              'train-Logloss-mean': [0.6345874345444429,\n               0.2917693735239006,\n               0.230149201964164],\n              'train-Logloss-std': [0.0019379718172498218,\n               0.005118150556778108,\n               0.002869586378770749]})}"
     },
     "execution_count": 29,
     "metadata": {},
     "output_type": "execute_result"
    }
   ],
   "source": [
    "grid_search_result"
   ],
   "metadata": {
    "collapsed": false
   }
  },
  {
   "cell_type": "code",
   "execution_count": 28,
   "outputs": [
    {
     "name": "stdout",
     "output_type": "stream",
     "text": [
      "ROC-AUC: 0.9688881106474942\n",
      "Classification report:\n",
      "              precision    recall  f1-score   support\n",
      "\n",
      "           0       0.91      0.98      0.94      2321\n",
      "           1       0.94      0.75      0.83       935\n",
      "\n",
      "    accuracy                           0.91      3256\n",
      "   macro avg       0.92      0.86      0.89      3256\n",
      "weighted avg       0.92      0.91      0.91      3256\n",
      "\n"
     ]
    }
   ],
   "source": [
    "y_pred = catboost_model.predict(X_test_vect)\n",
    "y_pred_proba = catboost_model.predict_proba(X_test_vect)[:, 1]\n",
    "print(f\"ROC-AUC: {roc_auc_score(y_test, y_pred_proba)}\")\n",
    "print(f\"Classification report:\\n{classification_report(y_test, y_pred)}\")"
   ],
   "metadata": {
    "collapsed": false
   }
  },
  {
   "cell_type": "code",
   "execution_count": null,
   "outputs": [],
   "source": [],
   "metadata": {
    "collapsed": false
   }
  }
 ],
 "metadata": {
  "kernelspec": {
   "display_name": "Python 3",
   "language": "python",
   "name": "python3"
  },
  "language_info": {
   "codemirror_mode": {
    "name": "ipython",
    "version": 2
   },
   "file_extension": ".py",
   "mimetype": "text/x-python",
   "name": "python",
   "nbconvert_exporter": "python",
   "pygments_lexer": "ipython2",
   "version": "2.7.6"
  }
 },
 "nbformat": 4,
 "nbformat_minor": 0
}
