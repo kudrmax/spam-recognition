{
 "cells": [
  {
   "cell_type": "code",
   "execution_count": 1,
   "metadata": {
    "collapsed": true
   },
   "outputs": [],
   "source": [
    "import pandas as pd"
   ]
  },
  {
   "cell_type": "code",
   "execution_count": 2,
   "outputs": [
    {
     "data": {
      "text/plain": "  text_type                                               text\n0       ham  make sure alex knows his birthday is over in f...\n1       ham  a resume for john lavorato thanks vince i will...\n2      spam  plzz visit my website moviesgodml to get all m...\n3      spam  urgent your mobile number has been awarded wit...\n4       ham  overview of hr associates analyst project per ...",
      "text/html": "<div>\n<style scoped>\n    .dataframe tbody tr th:only-of-type {\n        vertical-align: middle;\n    }\n\n    .dataframe tbody tr th {\n        vertical-align: top;\n    }\n\n    .dataframe thead th {\n        text-align: right;\n    }\n</style>\n<table border=\"1\" class=\"dataframe\">\n  <thead>\n    <tr style=\"text-align: right;\">\n      <th></th>\n      <th>text_type</th>\n      <th>text</th>\n    </tr>\n  </thead>\n  <tbody>\n    <tr>\n      <th>0</th>\n      <td>ham</td>\n      <td>make sure alex knows his birthday is over in f...</td>\n    </tr>\n    <tr>\n      <th>1</th>\n      <td>ham</td>\n      <td>a resume for john lavorato thanks vince i will...</td>\n    </tr>\n    <tr>\n      <th>2</th>\n      <td>spam</td>\n      <td>plzz visit my website moviesgodml to get all m...</td>\n    </tr>\n    <tr>\n      <th>3</th>\n      <td>spam</td>\n      <td>urgent your mobile number has been awarded wit...</td>\n    </tr>\n    <tr>\n      <th>4</th>\n      <td>ham</td>\n      <td>overview of hr associates analyst project per ...</td>\n    </tr>\n  </tbody>\n</table>\n</div>"
     },
     "execution_count": 2,
     "metadata": {},
     "output_type": "execute_result"
    }
   ],
   "source": [
    "data = pd.read_csv('data/train_spam.csv')\n",
    "data.head()"
   ],
   "metadata": {
    "collapsed": false
   }
  },
  {
   "cell_type": "markdown",
   "source": [
    "# Анализ и предобработка данных"
   ],
   "metadata": {
    "collapsed": false
   }
  },
  {
   "cell_type": "code",
   "execution_count": 3,
   "outputs": [],
   "source": [
    "# заменим spam на 1 и ham на 0\n",
    "data.loc[data['text_type'] == 'spam', 'text_type'] = 1\n",
    "data.loc[data['text_type'] == 'ham', 'text_type'] = 0\n",
    "data['text_type'] = data['text_type'].astype(int)"
   ],
   "metadata": {
    "collapsed": false
   }
  },
  {
   "cell_type": "code",
   "execution_count": 4,
   "outputs": [
    {
     "data": {
      "text/plain": "text_type    0\ntext         0\ndtype: int64"
     },
     "execution_count": 4,
     "metadata": {},
     "output_type": "execute_result"
    }
   ],
   "source": [
    "# посмотрим на пропуски\n",
    "data.isna().sum()"
   ],
   "metadata": {
    "collapsed": false
   }
  },
  {
   "cell_type": "code",
   "execution_count": 5,
   "outputs": [
    {
     "data": {
      "text/plain": "            text\ntext_type       \n0          11469\n1           4809",
      "text/html": "<div>\n<style scoped>\n    .dataframe tbody tr th:only-of-type {\n        vertical-align: middle;\n    }\n\n    .dataframe tbody tr th {\n        vertical-align: top;\n    }\n\n    .dataframe thead th {\n        text-align: right;\n    }\n</style>\n<table border=\"1\" class=\"dataframe\">\n  <thead>\n    <tr style=\"text-align: right;\">\n      <th></th>\n      <th>text</th>\n    </tr>\n    <tr>\n      <th>text_type</th>\n      <th></th>\n    </tr>\n  </thead>\n  <tbody>\n    <tr>\n      <th>0</th>\n      <td>11469</td>\n    </tr>\n    <tr>\n      <th>1</th>\n      <td>4809</td>\n    </tr>\n  </tbody>\n</table>\n</div>"
     },
     "execution_count": 5,
     "metadata": {},
     "output_type": "execute_result"
    }
   ],
   "source": [
    "# посмотрим на сбаллансированность данных\n",
    "data.groupby(by='text_type').count()"
   ],
   "metadata": {
    "collapsed": false
   }
  },
  {
   "cell_type": "code",
   "execution_count": 6,
   "outputs": [
    {
     "name": "stderr",
     "output_type": "stream",
     "text": [
      "[nltk_data] Downloading package stopwords to\n",
      "[nltk_data]     /Users/kudr.max/nltk_data...\n",
      "[nltk_data]   Package stopwords is already up-to-date!\n",
      "[nltk_data] Downloading package wordnet to\n",
      "[nltk_data]     /Users/kudr.max/nltk_data...\n",
      "[nltk_data]   Package wordnet is already up-to-date!\n"
     ]
    },
    {
     "data": {
      "text/plain": "   text_type                                               text  \\\n0          0  make sure alex knows his birthday is over in f...   \n1          0  a resume for john lavorato thanks vince i will...   \n2          1  plzz visit my website moviesgodml to get all m...   \n3          1  urgent your mobile number has been awarded wit...   \n4          0  overview of hr associates analyst project per ...   \n\n                                        cleared_text  \\\n0  make sure alex knows birthday fifteen minutes ...   \n1  resume john lavorato thanks vince get moving r...   \n2  plzz visit website moviesgodml get movies free...   \n3  urgent mobile number awarded £ prize guarantee...   \n4  overview hr associates analyst project per dav...   \n\n                                   cleared_text_stem  \\\n0  make sure alex know birthday fifteen minut far...   \n1  resum john lavorato thank vinc get move right ...   \n2  plzz visit websit moviesgodml get movi free al...   \n3  urgent mobil number award £ prize guarante cal...   \n4  overview hr associ analyst project per david r...   \n\n                              cleared_text_lemmatize  \n0  make sure alex know birthday fifteen minute fa...  \n1  resume john lavorato thanks vince get moving r...  \n2  plzz visit website moviesgodml get movie free ...  \n3  urgent mobile number awarded £ prize guarantee...  \n4  overview hr associate analyst project per davi...  ",
      "text/html": "<div>\n<style scoped>\n    .dataframe tbody tr th:only-of-type {\n        vertical-align: middle;\n    }\n\n    .dataframe tbody tr th {\n        vertical-align: top;\n    }\n\n    .dataframe thead th {\n        text-align: right;\n    }\n</style>\n<table border=\"1\" class=\"dataframe\">\n  <thead>\n    <tr style=\"text-align: right;\">\n      <th></th>\n      <th>text_type</th>\n      <th>text</th>\n      <th>cleared_text</th>\n      <th>cleared_text_stem</th>\n      <th>cleared_text_lemmatize</th>\n    </tr>\n  </thead>\n  <tbody>\n    <tr>\n      <th>0</th>\n      <td>0</td>\n      <td>make sure alex knows his birthday is over in f...</td>\n      <td>make sure alex knows birthday fifteen minutes ...</td>\n      <td>make sure alex know birthday fifteen minut far...</td>\n      <td>make sure alex know birthday fifteen minute fa...</td>\n    </tr>\n    <tr>\n      <th>1</th>\n      <td>0</td>\n      <td>a resume for john lavorato thanks vince i will...</td>\n      <td>resume john lavorato thanks vince get moving r...</td>\n      <td>resum john lavorato thank vinc get move right ...</td>\n      <td>resume john lavorato thanks vince get moving r...</td>\n    </tr>\n    <tr>\n      <th>2</th>\n      <td>1</td>\n      <td>plzz visit my website moviesgodml to get all m...</td>\n      <td>plzz visit website moviesgodml get movies free...</td>\n      <td>plzz visit websit moviesgodml get movi free al...</td>\n      <td>plzz visit website moviesgodml get movie free ...</td>\n    </tr>\n    <tr>\n      <th>3</th>\n      <td>1</td>\n      <td>urgent your mobile number has been awarded wit...</td>\n      <td>urgent mobile number awarded £ prize guarantee...</td>\n      <td>urgent mobil number award £ prize guarante cal...</td>\n      <td>urgent mobile number awarded £ prize guarantee...</td>\n    </tr>\n    <tr>\n      <th>4</th>\n      <td>0</td>\n      <td>overview of hr associates analyst project per ...</td>\n      <td>overview hr associates analyst project per dav...</td>\n      <td>overview hr associ analyst project per david r...</td>\n      <td>overview hr associate analyst project per davi...</td>\n    </tr>\n  </tbody>\n</table>\n</div>"
     },
     "execution_count": 6,
     "metadata": {},
     "output_type": "execute_result"
    }
   ],
   "source": [
    "# предобработаем текста\n",
    "\n",
    "import string\n",
    "import re\n",
    "import nltk\n",
    "from nltk.corpus import stopwords\n",
    "from nltk.stem.porter import PorterStemmer\n",
    "from nltk.stem import WordNetLemmatizer\n",
    "\n",
    "nltk.download('stopwords')\n",
    "nltk.download('wordnet')\n",
    "\n",
    "\n",
    "def clear_text(text: str, method=None):\n",
    "    \"\"\"\n",
    "    Функция для предобработки текста\n",
    "\n",
    "    Parameters\n",
    "    ----------\n",
    "    text\n",
    "    method:\n",
    "        - 'lemmatize': использовать WordNetLemmatizer()\n",
    "        - 'stem': использовать PorterStemmer()\n",
    "        - None: не использовать обработку слов\n",
    "\n",
    "    Returns\n",
    "    -------\n",
    "    Текст, готовый к векторизации\n",
    "    \"\"\"\n",
    "    stopwords_set = set(stopwords.words('english'))\n",
    "\n",
    "    text = text.strip().lower()\n",
    "    text = text.translate(str.maketrans('', '', string.punctuation))  # удаление пунктуации\n",
    "    text = re.sub(r'\\d+', '', text)  # удаление чисел\n",
    "    text_list = text.split()\n",
    "    text_list = [word for word in text_list if word not in stopwords_set]\n",
    "    if method == 'lemmatize':\n",
    "        lemmatizer = WordNetLemmatizer()\n",
    "        text_list = [lemmatizer.lemmatize(word) for word in text_list]\n",
    "    elif method == 'stem':\n",
    "        stemmer = PorterStemmer()\n",
    "        text_list = [stemmer.stem(word) for word in text_list]\n",
    "    text = ' '.join(text_list)\n",
    "    return text\n",
    "\n",
    "\n",
    "data['cleared_text'] = data['text'].apply(clear_text)\n",
    "data['cleared_text_stem'] = data['text'].apply(clear_text, method='stem')\n",
    "data['cleared_text_lemmatize'] = data['text'].apply(clear_text, method='lemmatize')\n",
    "data.head()"
   ],
   "metadata": {
    "collapsed": false
   }
  },
  {
   "cell_type": "code",
   "execution_count": 7,
   "outputs": [],
   "source": [
    "X = data['cleared_text_stem']\n",
    "y = data['text_type']"
   ],
   "metadata": {
    "collapsed": false
   }
  },
  {
   "cell_type": "code",
   "execution_count": 8,
   "outputs": [],
   "source": [
    "# векторизируем текст\n",
    "\n",
    "from sklearn.model_selection import train_test_split\n",
    "from sklearn.feature_extraction.text import TfidfVectorizer, CountVectorizer\n",
    "\n",
    "X_train, X_test, y_train, y_test = train_test_split(X, y, test_size=0.2, random_state=42)\n",
    "\n",
    "tfidf_vect = TfidfVectorizer()\n",
    "# count_vect = CountVectorizer()\n",
    "\n",
    "tfidf_vect.fit(X_train)\n",
    "# count_vect.fit(X_train)\n",
    "\n",
    "X_train_vect = tfidf_vect.transform(X_train)\n",
    "X_test_vect = tfidf_vect.transform(X_test)\n",
    "# X_train_vect = count_vect.transform(X_train)\n",
    "# X_test_vect = count_vect.transform(X_test)"
   ],
   "metadata": {
    "collapsed": false
   }
  },
  {
   "cell_type": "markdown",
   "source": [
    "# Обучение модели\n",
    "\n",
    "Рассмотрим несколько моделей и для каждой из них подберем оптимальные гиперпараметры"
   ],
   "metadata": {
    "collapsed": false
   }
  },
  {
   "cell_type": "code",
   "execution_count": 9,
   "outputs": [],
   "source": [
    "from sklearn.metrics import roc_auc_score, classification_report\n",
    "from sklearn.model_selection import GridSearchCV\n",
    "import numpy as np"
   ],
   "metadata": {
    "collapsed": false
   }
  },
  {
   "cell_type": "markdown",
   "source": [
    "### Логистическая регрессия"
   ],
   "metadata": {
    "collapsed": false
   }
  },
  {
   "cell_type": "code",
   "execution_count": 10,
   "outputs": [
    {
     "name": "stdout",
     "output_type": "stream",
     "text": [
      "Лучший roc_auc: 0.9776756178251041\n",
      "При параметрах: {'C': 10}\n"
     ]
    }
   ],
   "source": [
    "from sklearn.linear_model import LogisticRegression\n",
    "\n",
    "model = LogisticRegression()\n",
    "\n",
    "parameters = {\n",
    "    'C': [0.001, 0.01, 0.1, 1, 10, 100, 1000]\n",
    "}\n",
    "\n",
    "grid_search = GridSearchCV(\n",
    "    estimator=model,\n",
    "    param_grid=parameters,\n",
    "    scoring='roc_auc',\n",
    "    cv=5)\n",
    "\n",
    "grid_search.fit(X_train_vect, y_train)\n",
    "\n",
    "print(f'Лучший roc_auc: {grid_search.best_score_}')\n",
    "print(f'При параметрах: {grid_search.best_params_}')"
   ],
   "metadata": {
    "collapsed": false
   }
  },
  {
   "cell_type": "code",
   "execution_count": 11,
   "outputs": [
    {
     "name": "stdout",
     "output_type": "stream",
     "text": [
      "ROC-AUC on test: 0.9819255484105828\n",
      "Classification report:\n",
      "              precision    recall  f1-score   support\n",
      "\n",
      "           0       0.95      0.97      0.96      2321\n",
      "           1       0.91      0.88      0.89       935\n",
      "\n",
      "    accuracy                           0.94      3256\n",
      "   macro avg       0.93      0.92      0.93      3256\n",
      "weighted avg       0.94      0.94      0.94      3256\n",
      "\n"
     ]
    }
   ],
   "source": [
    "model = grid_search.best_estimator_\n",
    "model.fit(X_train_vect, y_train)\n",
    "\n",
    "y_pred = model.predict(X_test_vect)\n",
    "y_pred_proba = model.predict_proba(X_test_vect)[:, 1]\n",
    "print(f\"ROC-AUC on test: {roc_auc_score(y_test, y_pred_proba)}\")\n",
    "print(f\"Classification report:\\n{classification_report(y_test, y_pred)}\")"
   ],
   "metadata": {
    "collapsed": false
   }
  },
  {
   "cell_type": "markdown",
   "source": [
    "### SVM"
   ],
   "metadata": {
    "collapsed": false
   }
  },
  {
   "cell_type": "code",
   "execution_count": 13,
   "outputs": [
    {
     "name": "stdout",
     "output_type": "stream",
     "text": [
      "Лучший roc_auc: 0.9807214073960498\n",
      "При параметрах: {'C': 10}\n"
     ]
    }
   ],
   "source": [
    "from sklearn.svm import SVC\n",
    "\n",
    "model = SVC()\n",
    "\n",
    "parameters = {\n",
    "    'C': [1, 10]\n",
    "}\n",
    "\n",
    "grid_search = GridSearchCV(\n",
    "    estimator=model,\n",
    "    param_grid=parameters,\n",
    "    scoring='roc_auc',\n",
    "    cv=5)\n",
    "\n",
    "grid_search.fit(X_train_vect, y_train)\n",
    "\n",
    "print(f'Лучший roc_auc: {grid_search.best_score_}')\n",
    "print(f'При параметрах: {grid_search.best_params_}')"
   ],
   "metadata": {
    "collapsed": false
   }
  },
  {
   "cell_type": "code",
   "execution_count": 16,
   "outputs": [
    {
     "name": "stdout",
     "output_type": "stream",
     "text": [
      "ROC-AUC on test: 0.9242998707453683\n",
      "Classification report:\n",
      "              precision    recall  f1-score   support\n",
      "\n",
      "           0       0.95      0.98      0.96      2321\n",
      "           1       0.94      0.87      0.90       935\n",
      "\n",
      "    accuracy                           0.95      3256\n",
      "   macro avg       0.94      0.92      0.93      3256\n",
      "weighted avg       0.95      0.95      0.95      3256\n",
      "\n"
     ]
    }
   ],
   "source": [
    "model = grid_search.best_estimator_\n",
    "model.fit(X_train_vect, y_train)\n",
    "\n",
    "y_pred = model.predict(X_test_vect)\n",
    "print(f\"ROC-AUC on test: {roc_auc_score(y_test, y_pred)}\")\n",
    "print(f\"Classification report:\\n{classification_report(y_test, y_pred)}\")"
   ],
   "metadata": {
    "collapsed": false
   }
  },
  {
   "cell_type": "markdown",
   "source": [
    "### Градиентный бустинг (CatBoost)"
   ],
   "metadata": {
    "collapsed": false
   }
  },
  {
   "cell_type": "code",
   "execution_count": 24,
   "outputs": [
    {
     "name": "stdout",
     "output_type": "stream",
     "text": [
      "Learning rate set to 0.055181\n",
      "0:\ttest: 0.7265730\tbest: 0.7265730 (0)\ttotal: 117ms\tremaining: 2m 20s\n",
      "50:\ttest: 0.9279119\tbest: 0.9279119 (50)\ttotal: 6.87s\tremaining: 2m 34s\n",
      "100:\ttest: 0.9465708\tbest: 0.9465708 (100)\ttotal: 10.1s\tremaining: 1m 49s\n",
      "150:\ttest: 0.9566204\tbest: 0.9566204 (150)\ttotal: 13.2s\tremaining: 1m 31s\n",
      "200:\ttest: 0.9644667\tbest: 0.9644667 (200)\ttotal: 16.3s\tremaining: 1m 21s\n",
      "250:\ttest: 0.9689340\tbest: 0.9689340 (250)\ttotal: 24.4s\tremaining: 1m 32s\n",
      "300:\ttest: 0.9722547\tbest: 0.9722547 (300)\ttotal: 28.5s\tremaining: 1m 25s\n",
      "350:\ttest: 0.9740908\tbest: 0.9740908 (350)\ttotal: 31.9s\tremaining: 1m 17s\n",
      "400:\ttest: 0.9754372\tbest: 0.9754372 (400)\ttotal: 35.1s\tremaining: 1m 9s\n",
      "450:\ttest: 0.9767501\tbest: 0.9767501 (450)\ttotal: 38.3s\tremaining: 1m 3s\n",
      "500:\ttest: 0.9777544\tbest: 0.9777544 (500)\ttotal: 41.7s\tremaining: 58.2s\n",
      "550:\ttest: 0.9780445\tbest: 0.9780445 (550)\ttotal: 44.9s\tremaining: 52.9s\n",
      "600:\ttest: 0.9789647\tbest: 0.9789647 (600)\ttotal: 48.1s\tremaining: 48s\n",
      "650:\ttest: 0.9792732\tbest: 0.9792732 (650)\ttotal: 51.3s\tremaining: 43.3s\n",
      "700:\ttest: 0.9796142\tbest: 0.9796142 (700)\ttotal: 54.6s\tremaining: 38.9s\n",
      "750:\ttest: 0.9797333\tbest: 0.9797333 (750)\ttotal: 57.9s\tremaining: 34.6s\n",
      "800:\ttest: 0.9802791\tbest: 0.9802791 (800)\ttotal: 1m 1s\tremaining: 30.6s\n",
      "850:\ttest: 0.9805537\tbest: 0.9805537 (850)\ttotal: 1m 4s\tremaining: 26.5s\n",
      "900:\ttest: 0.9809240\tbest: 0.9809240 (900)\ttotal: 1m 8s\tremaining: 22.6s\n",
      "950:\ttest: 0.9809632\tbest: 0.9809632 (950)\ttotal: 1m 11s\tremaining: 18.7s\n",
      "1000:\ttest: 0.9811221\tbest: 0.9811221 (1000)\ttotal: 1m 14s\tremaining: 14.8s\n",
      "1050:\ttest: 0.9814306\tbest: 0.9814306 (1050)\ttotal: 1m 17s\tremaining: 11s\n",
      "1100:\ttest: 0.9816161\tbest: 0.9816161 (1100)\ttotal: 1m 21s\tremaining: 7.3s\n",
      "1150:\ttest: 0.9817947\tbest: 0.9817947 (1150)\ttotal: 1m 24s\tremaining: 3.59s\n",
      "1199:\ttest: 0.9819345\tbest: 0.9819345 (1199)\ttotal: 1m 27s\tremaining: 0us\n",
      "\n",
      "bestTest = 0.981934534\n",
      "bestIteration = 1199\n",
      "\n"
     ]
    },
    {
     "data": {
      "text/plain": "<catboost.core.CatBoostClassifier at 0x286d2f1d0>"
     },
     "execution_count": 24,
     "metadata": {},
     "output_type": "execute_result"
    }
   ],
   "source": [
    "from catboost import CatBoostClassifier, Pool\n",
    "from sklearn.metrics import roc_auc_score, classification_report\n",
    "\n",
    "train_pool = Pool(\n",
    "    data=X_train_vect,\n",
    "    label=y_train,\n",
    ")\n",
    "\n",
    "test_pool = Pool(\n",
    "    data=X_test_vect,\n",
    "    label=y_test,\n",
    ")\n",
    "\n",
    "parameters = {\n",
    "    'learning_rate': [0.03, 0.1],\n",
    "    'depth': [4, 6, 10],\n",
    "    'l2_leaf_reg': [1, 3, 5, 7, 9]\n",
    "}\n",
    "#\n",
    "# catboost_model = CatBoostClassifier(\n",
    "#     metric_period=50,\n",
    "#     iterations=200,\n",
    "#     loss_function='Logloss',\n",
    "#     eval_metric='AUC',\n",
    "# )\n",
    "#\n",
    "# catboost_model.grid_search(\n",
    "#     parameters,\n",
    "#     X=X_train_vect,\n",
    "#     y=y_train,\n",
    "#     cv=3\n",
    "# )\n",
    "\n",
    "# catboost_model = CatBoostClassifier(\n",
    "#     metric_period=50,\n",
    "#     use_best_model=True,\n",
    "#     iterations=1100,\n",
    "#     depth=7,\n",
    "#     learning_rate=0.1,\n",
    "#     loss_function='Logloss',\n",
    "#     eval_metric='AUC',\n",
    "#     random_seed=42,\n",
    "# )\n",
    "\n",
    "catboost_model = CatBoostClassifier(\n",
    "    metric_period=50,\n",
    "    iterations=1200,\n",
    "    loss_function='Logloss',\n",
    "    eval_metric='AUC',\n",
    ")\n",
    "catboost_model.fit(train_pool, eval_set=test_pool)"
   ],
   "metadata": {
    "collapsed": false
   }
  },
  {
   "cell_type": "code",
   "execution_count": 25,
   "outputs": [
    {
     "name": "stdout",
     "output_type": "stream",
     "text": [
      "ROC-AUC: 0.981934534026685\n",
      "Classification report:\n",
      "              precision    recall  f1-score   support\n",
      "\n",
      "           0       0.93      0.98      0.96      2321\n",
      "           1       0.94      0.83      0.88       935\n",
      "\n",
      "    accuracy                           0.94      3256\n",
      "   macro avg       0.94      0.90      0.92      3256\n",
      "weighted avg       0.94      0.94      0.94      3256\n",
      "\n"
     ]
    }
   ],
   "source": [
    "y_pred = catboost_model.predict(X_test_vect)\n",
    "y_pred_proba = catboost_model.predict_proba(X_test_vect)[:, 1]\n",
    "print(f\"ROC-AUC: {roc_auc_score(y_test, y_pred_proba)}\")\n",
    "print(f\"Classification report:\\n{classification_report(y_test, y_pred)}\")"
   ],
   "metadata": {
    "collapsed": false
   }
  },
  {
   "cell_type": "code",
   "execution_count": null,
   "outputs": [],
   "source": [],
   "metadata": {
    "collapsed": false
   }
  }
 ],
 "metadata": {
  "kernelspec": {
   "display_name": "Python 3",
   "language": "python",
   "name": "python3"
  },
  "language_info": {
   "codemirror_mode": {
    "name": "ipython",
    "version": 2
   },
   "file_extension": ".py",
   "mimetype": "text/x-python",
   "name": "python",
   "nbconvert_exporter": "python",
   "pygments_lexer": "ipython2",
   "version": "2.7.6"
  }
 },
 "nbformat": 4,
 "nbformat_minor": 0
}
